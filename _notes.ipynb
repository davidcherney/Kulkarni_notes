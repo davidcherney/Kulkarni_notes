{
 "cells": [
  {
   "cell_type": "markdown",
   "id": "0ec04b75-0476-4329-8bc6-2b4ee2080266",
   "metadata": {
    "toc-hr-collapsed": true
   },
   "source": [
    "# Ch1 Int\n",
    "\n",
    "**Definition:** A <u>recomendation system</u> refers to a whole system that provides users with recommendation including the user interface, user profile data, an item catalog, a recommendation engine, feedback collection mechanism, and an evaluation mechanism. \n",
    "\n",
    "**Definition:** A <u>recommendation engine</u> is the algorithmic calculation mechanism.\n",
    "\n",
    "\n",
    "Feedback types: \n",
    "1. Explicit feedback\n",
    "    - ratings, likes, dislikes, comments... companies try hard to get users to generate this. \n",
    "2. Implicit feedback\n",
    "    - pages viewed/visited, clicks, Caputred through cookies and browsing history. \n",
    "    "
   ]
  },
  {
   "cell_type": "markdown",
   "id": "ffaa128f-4e1c-49df-bab2-3186028a4fbe",
   "metadata": {
    "toc-hr-collapsed": true
   },
   "source": [
    "## Engine types:"
   ]
  },
  {
   "cell_type": "markdown",
   "id": "6b178537-65a8-4674-80c7-d4c43d49433a",
   "metadata": {
    "toc-hr-collapsed": true
   },
   "source": [
    "### Market basket anaysis \n",
    "\n",
    "(aka association rule mining) \n",
    "\n",
    "This engine type focuses on relationships between items. \n",
    "\n",
    "**Definition:** An <u>association rule</u> is an relation between items that is usedin a recommender system.\n",
    "\n",
    "Relationships are usu written with arrows, e.g. {bread}->{butter}. Terminology: {antecedent}->{consequent}. Both antecedents and consequents can have multiple items; e.g. {bread, milk}->{butter, chips}. \n",
    "     \n",
    "**Definition:** The <u>support</u> of a association rule is the relative frequency of that rule. \n",
    "\n",
    "A large value of support is often desirable in the relations you make into association rules, but sometimes helpful \"hidden relationships\" with low support are out there. \n",
    "\n",
    "**Definition:** The <u>confidence</u> of an association rule is the frequency with which the rule is followed. \n",
    "\n",
    "e.g. The rule {milk}->{bread} has confidence .5 if, of the times that milk is bought, bread is also bought .5 of the time. \n",
    "\n",
    "**Definition:** The <u>lift</u> $L(A \\to B)$ of the association rule $A\\to B$ is the ratio of the support of the rule to the product of the relative frequency of A and B; $L(A \\to B)= \\frac{P(A \\wedge B)}{P(A)P(B)}$. \n",
    "\n",
    "That is, lift is a measure of how many times higher the (emperical) probability is than the probability under the assumption of independence. Note that this can be expressed as $L(A\\to B) = \\frac{P(A|B)}{P(A)} = \\frac{P(B|A)}{P(B)}$, the factor of increase by conditioning on B. \n",
    "\n",
    "e.g. Of all purchases, A is bought with B is bought 2/5 of the time. Of all purchases, A is bought with 3/5 of the time and $B$ is bought 4/5 of the time. Thus the support of the association rule $A\\to B$ is 2/3, the \"support\" of A and B are 2/5 and 3/5, and the lift of the association rule $A\\to B$ is \n",
    "$$\n",
    "\\frac{\\text{support}(A\\to B)}{\\text{support}(A) \\text{support}(B)}\n",
    "=\\frac{\\frac25}{\\frac35 \\frac 45} \n",
    "=\\frac{10}{12}.\n",
    "$$"
   ]
  },
  {
   "cell_type": "markdown",
   "id": "3c861e1d-95b3-429d-aeed-f31522ca8671",
   "metadata": {},
   "source": [
    "### Content Based Filtering "
   ]
  },
  {
   "cell_type": "markdown",
   "id": "b644df88-80f1-4a48-bec4-8520ca480cfe",
   "metadata": {},
   "source": [
    "Suggests similar items to the items a user has previously shown interest in. \n",
    "\n",
    "### Collaborative-Based Filtering\n",
    "\n",
    "User to user similarity is considered. Cosine, euclidean, etc distance between users is measured based on profile vectors.  A profile vector for a user summarizes explicit and implicit feedback. Once similar users are found , items that similar users have purchased but that the target user has not are identified. \n",
    "- user-user collaborative filtering: find user similarities. Computationally expensive for large sets of users since the features of users change in time. \n",
    "- item-item collaborative filtering: find item similarities. For each user, a similarity matrix is generated from items the user has previously chosen. Items from outside that list are identified and chosen. \n",
    "\n"
   ]
  },
  {
   "cell_type": "markdown",
   "id": "8a1e51f9-fdfe-4352-b0a6-c7de40a870b4",
   "metadata": {},
   "source": [
    "### Hybrid Content-Collaborative\n",
    "uses both content and collaborative based. A structure called a combiner is needed to mix the results of the two approaches. \n",
    "### ML Clustering\n",
    "\n",
    "Unsupervised identification of \n",
    "- similar users,\n",
    "- similar items \n",
    "\n",
    "This is not a good choice when data about a user is sparse. \n",
    "\n",
    "Clustering algorithms that are popular:\n",
    "- k-means\n",
    "- fuzzy mapping\n",
    "- self organizing maps (SOM)\n",
    "- hybrid of the above. \n",
    "\n",
    "\n"
   ]
  },
  {
   "cell_type": "markdown",
   "id": "d8cf57a8-9dfe-4a49-8942-0a0051bb83b5",
   "metadata": {},
   "source": [
    "### ML Classification\n",
    "\n",
    "\"buyer propensity model\" predicts the chances of \n",
    "- a customers buying a particular item \n",
    "- a sales lead will become a sale \n",
    "\n",
    "### Deep Learning\n",
    "\n",
    "## Rule Based RS \n",
    "\n",
    "You can recommend based on \n",
    "- most popluar globally\n",
    "- most popular in your area\n",
    "- buy again (most popular from you)"
   ]
  },
  {
   "cell_type": "markdown",
   "id": "9ad90af1-ee5d-4205-a57d-3071ebb549aa",
   "metadata": {
    "toc-hr-collapsed": true
   },
   "source": [
    "# 2 Market Basket Analysis \n",
    "\n",
    "aka Association Rule Mining, begins with a record of purchases that includes sets of items bought together, as in the following table. \n",
    "\n",
    "| Purchase ID | Items Purchased|\n",
    "|-----------------|-----------------|\n",
    "| <center>1</center> | {bread, milk}|\n",
    "| 2 | {bread, diapers, eggs, beer} |\n",
    "| 3 | {milk, bread, diapers, cola} |\n",
    "| &vellip; | &vellip; |\n",
    "\n",
    "From this, we make a sparse matrix of 0,1 booleans for invoice vs item we call the `basket`."
   ]
  },
  {
   "cell_type": "code",
   "execution_count": 2,
   "id": "025bc828-7a58-4df7-8344-0a1a136d032d",
   "metadata": {
    "tags": []
   },
   "outputs": [],
   "source": [
    "import pandas as pd\n",
    "\n",
    "basket = pd.read_csv(\"Chapter - 2/basket\",index_col=0)"
   ]
  },
  {
   "cell_type": "code",
   "execution_count": 3,
   "id": "91a789aa-5ea9-4576-b9f0-0c0d4b796ec7",
   "metadata": {
    "tags": []
   },
   "outputs": [
    {
     "name": "stdout",
     "output_type": "stream",
     "text": [
      " 4 PURPLE FLOCK DINNER CANDLES       36\n",
      " 50'S CHRISTMAS GIFT BAG LARGE      109\n",
      " DOLLY GIRL BEAKER                  133\n",
      " I LOVE LONDON MINI BACKPACK         68\n",
      " I LOVE LONDON MINI RUCKSACK          1\n",
      "                                   ... \n",
      "ZINC T-LIGHT HOLDER STARS SMALL     237\n",
      "ZINC TOP  2 DOOR WOODEN SHELF         9\n",
      "ZINC WILLIE WINKIE  CANDLE STICK    188\n",
      "ZINC WIRE KITCHEN ORGANISER          12\n",
      "ZINC WIRE SWEETHEART LETTER TRAY     20\n",
      "Length: 3877, dtype: int64\n"
     ]
    },
    {
     "data": {
      "text/html": [
       "<div>\n",
       "<style scoped>\n",
       "    .dataframe tbody tr th:only-of-type {\n",
       "        vertical-align: middle;\n",
       "    }\n",
       "\n",
       "    .dataframe tbody tr th {\n",
       "        vertical-align: top;\n",
       "    }\n",
       "\n",
       "    .dataframe thead th {\n",
       "        text-align: right;\n",
       "    }\n",
       "</style>\n",
       "<table border=\"1\" class=\"dataframe\">\n",
       "  <thead>\n",
       "    <tr style=\"text-align: right;\">\n",
       "      <th></th>\n",
       "      <th>4 PURPLE FLOCK DINNER CANDLES</th>\n",
       "      <th>50'S CHRISTMAS GIFT BAG LARGE</th>\n",
       "      <th>DOLLY GIRL BEAKER</th>\n",
       "      <th>I LOVE LONDON MINI BACKPACK</th>\n",
       "      <th>I LOVE LONDON MINI RUCKSACK</th>\n",
       "      <th>NINE DRAWER OFFICE TIDY</th>\n",
       "      <th>OVAL WALL MIRROR DIAMANTE</th>\n",
       "      <th>RED SPOT GIFT BAG LARGE</th>\n",
       "      <th>SET 2 TEA TOWELS I LOVE LONDON</th>\n",
       "      <th>SPACEBOY BABY GIFT SET</th>\n",
       "      <th>...</th>\n",
       "      <th>ZINC STAR T-LIGHT HOLDER</th>\n",
       "      <th>ZINC SWEETHEART SOAP DISH</th>\n",
       "      <th>ZINC SWEETHEART WIRE LETTER RACK</th>\n",
       "      <th>ZINC T-LIGHT HOLDER STAR LARGE</th>\n",
       "      <th>ZINC T-LIGHT HOLDER STARS LARGE</th>\n",
       "      <th>ZINC T-LIGHT HOLDER STARS SMALL</th>\n",
       "      <th>ZINC TOP  2 DOOR WOODEN SHELF</th>\n",
       "      <th>ZINC WILLIE WINKIE  CANDLE STICK</th>\n",
       "      <th>ZINC WIRE KITCHEN ORGANISER</th>\n",
       "      <th>ZINC WIRE SWEETHEART LETTER TRAY</th>\n",
       "    </tr>\n",
       "    <tr>\n",
       "      <th>InvoiceNo</th>\n",
       "      <th></th>\n",
       "      <th></th>\n",
       "      <th></th>\n",
       "      <th></th>\n",
       "      <th></th>\n",
       "      <th></th>\n",
       "      <th></th>\n",
       "      <th></th>\n",
       "      <th></th>\n",
       "      <th></th>\n",
       "      <th></th>\n",
       "      <th></th>\n",
       "      <th></th>\n",
       "      <th></th>\n",
       "      <th></th>\n",
       "      <th></th>\n",
       "      <th></th>\n",
       "      <th></th>\n",
       "      <th></th>\n",
       "      <th></th>\n",
       "      <th></th>\n",
       "    </tr>\n",
       "  </thead>\n",
       "  <tbody>\n",
       "    <tr>\n",
       "      <th>536365</th>\n",
       "      <td>0</td>\n",
       "      <td>0</td>\n",
       "      <td>0</td>\n",
       "      <td>0</td>\n",
       "      <td>0</td>\n",
       "      <td>0</td>\n",
       "      <td>0</td>\n",
       "      <td>0</td>\n",
       "      <td>0</td>\n",
       "      <td>0</td>\n",
       "      <td>...</td>\n",
       "      <td>0</td>\n",
       "      <td>0</td>\n",
       "      <td>0</td>\n",
       "      <td>0</td>\n",
       "      <td>0</td>\n",
       "      <td>0</td>\n",
       "      <td>0</td>\n",
       "      <td>0</td>\n",
       "      <td>0</td>\n",
       "      <td>0</td>\n",
       "    </tr>\n",
       "    <tr>\n",
       "      <th>536366</th>\n",
       "      <td>0</td>\n",
       "      <td>0</td>\n",
       "      <td>0</td>\n",
       "      <td>0</td>\n",
       "      <td>0</td>\n",
       "      <td>0</td>\n",
       "      <td>0</td>\n",
       "      <td>0</td>\n",
       "      <td>0</td>\n",
       "      <td>0</td>\n",
       "      <td>...</td>\n",
       "      <td>0</td>\n",
       "      <td>0</td>\n",
       "      <td>0</td>\n",
       "      <td>0</td>\n",
       "      <td>0</td>\n",
       "      <td>0</td>\n",
       "      <td>0</td>\n",
       "      <td>0</td>\n",
       "      <td>0</td>\n",
       "      <td>0</td>\n",
       "    </tr>\n",
       "    <tr>\n",
       "      <th>536367</th>\n",
       "      <td>0</td>\n",
       "      <td>0</td>\n",
       "      <td>0</td>\n",
       "      <td>0</td>\n",
       "      <td>0</td>\n",
       "      <td>0</td>\n",
       "      <td>0</td>\n",
       "      <td>0</td>\n",
       "      <td>0</td>\n",
       "      <td>0</td>\n",
       "      <td>...</td>\n",
       "      <td>0</td>\n",
       "      <td>0</td>\n",
       "      <td>0</td>\n",
       "      <td>0</td>\n",
       "      <td>0</td>\n",
       "      <td>0</td>\n",
       "      <td>0</td>\n",
       "      <td>0</td>\n",
       "      <td>0</td>\n",
       "      <td>0</td>\n",
       "    </tr>\n",
       "    <tr>\n",
       "      <th>536368</th>\n",
       "      <td>0</td>\n",
       "      <td>0</td>\n",
       "      <td>0</td>\n",
       "      <td>0</td>\n",
       "      <td>0</td>\n",
       "      <td>0</td>\n",
       "      <td>0</td>\n",
       "      <td>0</td>\n",
       "      <td>0</td>\n",
       "      <td>0</td>\n",
       "      <td>...</td>\n",
       "      <td>0</td>\n",
       "      <td>0</td>\n",
       "      <td>0</td>\n",
       "      <td>0</td>\n",
       "      <td>0</td>\n",
       "      <td>0</td>\n",
       "      <td>0</td>\n",
       "      <td>0</td>\n",
       "      <td>0</td>\n",
       "      <td>0</td>\n",
       "    </tr>\n",
       "    <tr>\n",
       "      <th>536369</th>\n",
       "      <td>0</td>\n",
       "      <td>0</td>\n",
       "      <td>0</td>\n",
       "      <td>0</td>\n",
       "      <td>0</td>\n",
       "      <td>0</td>\n",
       "      <td>0</td>\n",
       "      <td>0</td>\n",
       "      <td>0</td>\n",
       "      <td>0</td>\n",
       "      <td>...</td>\n",
       "      <td>0</td>\n",
       "      <td>0</td>\n",
       "      <td>0</td>\n",
       "      <td>0</td>\n",
       "      <td>0</td>\n",
       "      <td>0</td>\n",
       "      <td>0</td>\n",
       "      <td>0</td>\n",
       "      <td>0</td>\n",
       "      <td>0</td>\n",
       "    </tr>\n",
       "  </tbody>\n",
       "</table>\n",
       "<p>5 rows × 3877 columns</p>\n",
       "</div>"
      ],
      "text/plain": [
       "            4 PURPLE FLOCK DINNER CANDLES   50'S CHRISTMAS GIFT BAG LARGE  \\\n",
       "InvoiceNo                                                                   \n",
       "536365                                  0                               0   \n",
       "536366                                  0                               0   \n",
       "536367                                  0                               0   \n",
       "536368                                  0                               0   \n",
       "536369                                  0                               0   \n",
       "\n",
       "            DOLLY GIRL BEAKER   I LOVE LONDON MINI BACKPACK  \\\n",
       "InvoiceNo                                                     \n",
       "536365                      0                             0   \n",
       "536366                      0                             0   \n",
       "536367                      0                             0   \n",
       "536368                      0                             0   \n",
       "536369                      0                             0   \n",
       "\n",
       "            I LOVE LONDON MINI RUCKSACK   NINE DRAWER OFFICE TIDY  \\\n",
       "InvoiceNo                                                           \n",
       "536365                                0                         0   \n",
       "536366                                0                         0   \n",
       "536367                                0                         0   \n",
       "536368                                0                         0   \n",
       "536369                                0                         0   \n",
       "\n",
       "            OVAL WALL MIRROR DIAMANTE    RED SPOT GIFT BAG LARGE  \\\n",
       "InvoiceNo                                                          \n",
       "536365                               0                         0   \n",
       "536366                               0                         0   \n",
       "536367                               0                         0   \n",
       "536368                               0                         0   \n",
       "536369                               0                         0   \n",
       "\n",
       "            SET 2 TEA TOWELS I LOVE LONDON    SPACEBOY BABY GIFT SET  ...  \\\n",
       "InvoiceNo                                                             ...   \n",
       "536365                                    0                        0  ...   \n",
       "536366                                    0                        0  ...   \n",
       "536367                                    0                        0  ...   \n",
       "536368                                    0                        0  ...   \n",
       "536369                                    0                        0  ...   \n",
       "\n",
       "           ZINC STAR T-LIGHT HOLDER   ZINC SWEETHEART SOAP DISH  \\\n",
       "InvoiceNo                                                         \n",
       "536365                             0                          0   \n",
       "536366                             0                          0   \n",
       "536367                             0                          0   \n",
       "536368                             0                          0   \n",
       "536369                             0                          0   \n",
       "\n",
       "           ZINC SWEETHEART WIRE LETTER RACK  ZINC T-LIGHT HOLDER STAR LARGE  \\\n",
       "InvoiceNo                                                                     \n",
       "536365                                    0                               0   \n",
       "536366                                    0                               0   \n",
       "536367                                    0                               0   \n",
       "536368                                    0                               0   \n",
       "536369                                    0                               0   \n",
       "\n",
       "           ZINC T-LIGHT HOLDER STARS LARGE  ZINC T-LIGHT HOLDER STARS SMALL  \\\n",
       "InvoiceNo                                                                     \n",
       "536365                                   0                                0   \n",
       "536366                                   0                                0   \n",
       "536367                                   0                                0   \n",
       "536368                                   0                                0   \n",
       "536369                                   0                                0   \n",
       "\n",
       "           ZINC TOP  2 DOOR WOODEN SHELF   ZINC WILLIE WINKIE  CANDLE STICK  \\\n",
       "InvoiceNo                                                                     \n",
       "536365                                  0                                 0   \n",
       "536366                                  0                                 0   \n",
       "536367                                  0                                 0   \n",
       "536368                                  0                                 0   \n",
       "536369                                  0                                 0   \n",
       "\n",
       "           ZINC WIRE KITCHEN ORGANISER  ZINC WIRE SWEETHEART LETTER TRAY  \n",
       "InvoiceNo                                                                 \n",
       "536365                               0                                 0  \n",
       "536366                               0                                 0  \n",
       "536367                               0                                 0  \n",
       "536368                               0                                 0  \n",
       "536369                               0                                 0  \n",
       "\n",
       "[5 rows x 3877 columns]"
      ]
     },
     "execution_count": 3,
     "metadata": {},
     "output_type": "execute_result"
    }
   ],
   "source": [
    "print(basket.sum())\n",
    "basket.head()"
   ]
  },
  {
   "cell_type": "code",
   "execution_count": 4,
   "id": "578bca15-9a4f-49f1-bd2e-562be73f417a",
   "metadata": {
    "tags": []
   },
   "outputs": [
    {
     "data": {
      "text/plain": [
       "3877"
      ]
     },
     "execution_count": 4,
     "metadata": {},
     "output_type": "execute_result"
    }
   ],
   "source": [
    "str()"
   ]
  },
  {
   "cell_type": "markdown",
   "id": "8f872f0d-b082-4ab1-b9da-f073822f5ec8",
   "metadata": {},
   "source": [
    "We restrict our attention to a subset of the basket; rows that have a 1 for `'WOODEN STAR CHRISTMAS SCANDINAVIAN'`"
   ]
  },
  {
   "cell_type": "code",
   "execution_count": 5,
   "id": "d3b56c96-81f7-4f14-a959-14172c98a13c",
   "metadata": {
    "tags": []
   },
   "outputs": [],
   "source": [
    "small_basket = basket[basket['WOODEN STAR CHRISTMAS SCANDINAVIAN']==1]"
   ]
  },
  {
   "cell_type": "code",
   "execution_count": null,
   "id": "8be1a7ce-d4df-4370-b1e1-5ecfe1e5796d",
   "metadata": {},
   "outputs": [],
   "source": []
  },
  {
   "cell_type": "markdown",
   "id": "4363e9c2-819e-4c88-a892-9ee5663e6cb5",
   "metadata": {},
   "source": [
    "The MLxTend library has tools for common data science tasks, including calculating apriori values  like support. "
   ]
  },
  {
   "cell_type": "code",
   "execution_count": 6,
   "id": "32467a5e-3468-42d2-84bb-4d14b339f75d",
   "metadata": {
    "tags": []
   },
   "outputs": [
    {
     "name": "stderr",
     "output_type": "stream",
     "text": [
      "/opt/anaconda3/envs/rs_book_env/lib/python3.12/site-packages/mlxtend/frequent_patterns/fpcommon.py:110: DeprecationWarning: DataFrames with non-bool types result in worse computationalperformance and their support might be discontinued in the future.Please use a DataFrame with bool type\n",
      "  warnings.warn(\n"
     ]
    },
    {
     "data": {
      "text/html": [
       "<div>\n",
       "<style scoped>\n",
       "    .dataframe tbody tr th:only-of-type {\n",
       "        vertical-align: middle;\n",
       "    }\n",
       "\n",
       "    .dataframe tbody tr th {\n",
       "        vertical-align: top;\n",
       "    }\n",
       "\n",
       "    .dataframe thead th {\n",
       "        text-align: right;\n",
       "    }\n",
       "</style>\n",
       "<table border=\"1\" class=\"dataframe\">\n",
       "  <thead>\n",
       "    <tr style=\"text-align: right;\">\n",
       "      <th></th>\n",
       "      <th>support</th>\n",
       "      <th>itemsets</th>\n",
       "    </tr>\n",
       "  </thead>\n",
       "  <tbody>\n",
       "    <tr>\n",
       "      <th>20</th>\n",
       "      <td>0.521940</td>\n",
       "      <td>(WOODEN TREE CHRISTMAS SCANDINAVIAN, WOODEN ST...</td>\n",
       "    </tr>\n",
       "    <tr>\n",
       "      <th>21</th>\n",
       "      <td>0.163972</td>\n",
       "      <td>(ZINC FOLKART SLEIGH BELLS, WOODEN STAR CHRIST...</td>\n",
       "    </tr>\n",
       "    <tr>\n",
       "      <th>22</th>\n",
       "      <td>0.177829</td>\n",
       "      <td>(PAPER CHAIN KIT 50'S CHRISTMAS , WOODEN HEART...</td>\n",
       "    </tr>\n",
       "    <tr>\n",
       "      <th>23</th>\n",
       "      <td>0.152425</td>\n",
       "      <td>(WOODEN STAR CHRISTMAS SCANDINAVIAN, WOODEN HE...</td>\n",
       "    </tr>\n",
       "    <tr>\n",
       "      <th>24</th>\n",
       "      <td>0.420323</td>\n",
       "      <td>(WOODEN TREE CHRISTMAS SCANDINAVIAN, WOODEN HE...</td>\n",
       "    </tr>\n",
       "  </tbody>\n",
       "</table>\n",
       "</div>"
      ],
      "text/plain": [
       "     support                                           itemsets\n",
       "20  0.521940  (WOODEN TREE CHRISTMAS SCANDINAVIAN, WOODEN ST...\n",
       "21  0.163972  (ZINC FOLKART SLEIGH BELLS, WOODEN STAR CHRIST...\n",
       "22  0.177829  (PAPER CHAIN KIT 50'S CHRISTMAS , WOODEN HEART...\n",
       "23  0.152425  (WOODEN STAR CHRISTMAS SCANDINAVIAN, WOODEN HE...\n",
       "24  0.420323  (WOODEN TREE CHRISTMAS SCANDINAVIAN, WOODEN HE..."
      ]
     },
     "execution_count": 6,
     "metadata": {},
     "output_type": "execute_result"
    }
   ],
   "source": [
    "from mlxtend.frequent_patterns import apriori, association_rules\n",
    "\n",
    "\n",
    "frequent_itemsets = apriori(\n",
    "    small_basket, \n",
    "    min_support=0.15, \n",
    "    use_colnames=True)\n",
    "\n",
    "frequent_itemsets.tail()"
   ]
  },
  {
   "cell_type": "markdown",
   "id": "4fea2ced-5567-4ccf-88a5-4b3792ed214c",
   "metadata": {
    "tags": []
   },
   "source": [
    "The antecedents and consequents for the rules along with some handy numbers are provided by MLxTEnd's `association_rules` function. "
   ]
  },
  {
   "cell_type": "code",
   "execution_count": 7,
   "id": "3f6f32b7-9734-4925-b4b6-2e39fad5d018",
   "metadata": {
    "tags": []
   },
   "outputs": [
    {
     "data": {
      "text/html": [
       "<div>\n",
       "<style scoped>\n",
       "    .dataframe tbody tr th:only-of-type {\n",
       "        vertical-align: middle;\n",
       "    }\n",
       "\n",
       "    .dataframe tbody tr th {\n",
       "        vertical-align: top;\n",
       "    }\n",
       "\n",
       "    .dataframe thead th {\n",
       "        text-align: right;\n",
       "    }\n",
       "</style>\n",
       "<table border=\"1\" class=\"dataframe\">\n",
       "  <thead>\n",
       "    <tr style=\"text-align: right;\">\n",
       "      <th></th>\n",
       "      <th>antecedents</th>\n",
       "      <th>consequents</th>\n",
       "      <th>antecedent support</th>\n",
       "      <th>consequent support</th>\n",
       "      <th>support</th>\n",
       "      <th>confidence</th>\n",
       "      <th>lift</th>\n",
       "      <th>leverage</th>\n",
       "      <th>conviction</th>\n",
       "      <th>zhangs_metric</th>\n",
       "    </tr>\n",
       "  </thead>\n",
       "  <tbody>\n",
       "    <tr>\n",
       "      <th>0</th>\n",
       "      <td>(WOODEN TREE CHRISTMAS SCANDINAVIAN)</td>\n",
       "      <td>(WOODEN HEART CHRISTMAS SCANDINAVIAN)</td>\n",
       "      <td>0.521940</td>\n",
       "      <td>0.736721</td>\n",
       "      <td>0.420323</td>\n",
       "      <td>0.805310</td>\n",
       "      <td>1.093101</td>\n",
       "      <td>0.035799</td>\n",
       "      <td>1.352299</td>\n",
       "      <td>0.178160</td>\n",
       "    </tr>\n",
       "    <tr>\n",
       "      <th>1</th>\n",
       "      <td>(WOODEN HEART CHRISTMAS SCANDINAVIAN)</td>\n",
       "      <td>(WOODEN TREE CHRISTMAS SCANDINAVIAN)</td>\n",
       "      <td>0.736721</td>\n",
       "      <td>0.521940</td>\n",
       "      <td>0.420323</td>\n",
       "      <td>0.570533</td>\n",
       "      <td>1.093101</td>\n",
       "      <td>0.035799</td>\n",
       "      <td>1.113147</td>\n",
       "      <td>0.323501</td>\n",
       "    </tr>\n",
       "    <tr>\n",
       "      <th>2</th>\n",
       "      <td>(WOODEN TREE CHRISTMAS SCANDINAVIAN, WOODEN ST...</td>\n",
       "      <td>(WOODEN HEART CHRISTMAS SCANDINAVIAN)</td>\n",
       "      <td>0.521940</td>\n",
       "      <td>0.736721</td>\n",
       "      <td>0.420323</td>\n",
       "      <td>0.805310</td>\n",
       "      <td>1.093101</td>\n",
       "      <td>0.035799</td>\n",
       "      <td>1.352299</td>\n",
       "      <td>0.178160</td>\n",
       "    </tr>\n",
       "    <tr>\n",
       "      <th>3</th>\n",
       "      <td>(WOODEN HEART CHRISTMAS SCANDINAVIAN, WOODEN S...</td>\n",
       "      <td>(WOODEN TREE CHRISTMAS SCANDINAVIAN)</td>\n",
       "      <td>0.736721</td>\n",
       "      <td>0.521940</td>\n",
       "      <td>0.420323</td>\n",
       "      <td>0.570533</td>\n",
       "      <td>1.093101</td>\n",
       "      <td>0.035799</td>\n",
       "      <td>1.113147</td>\n",
       "      <td>0.323501</td>\n",
       "    </tr>\n",
       "    <tr>\n",
       "      <th>4</th>\n",
       "      <td>(WOODEN TREE CHRISTMAS SCANDINAVIAN)</td>\n",
       "      <td>(WOODEN HEART CHRISTMAS SCANDINAVIAN, WOODEN S...</td>\n",
       "      <td>0.521940</td>\n",
       "      <td>0.736721</td>\n",
       "      <td>0.420323</td>\n",
       "      <td>0.805310</td>\n",
       "      <td>1.093101</td>\n",
       "      <td>0.035799</td>\n",
       "      <td>1.352299</td>\n",
       "      <td>0.178160</td>\n",
       "    </tr>\n",
       "  </tbody>\n",
       "</table>\n",
       "</div>"
      ],
      "text/plain": [
       "                                         antecedents  \\\n",
       "0               (WOODEN TREE CHRISTMAS SCANDINAVIAN)   \n",
       "1              (WOODEN HEART CHRISTMAS SCANDINAVIAN)   \n",
       "2  (WOODEN TREE CHRISTMAS SCANDINAVIAN, WOODEN ST...   \n",
       "3  (WOODEN HEART CHRISTMAS SCANDINAVIAN, WOODEN S...   \n",
       "4               (WOODEN TREE CHRISTMAS SCANDINAVIAN)   \n",
       "\n",
       "                                         consequents  antecedent support  \\\n",
       "0              (WOODEN HEART CHRISTMAS SCANDINAVIAN)            0.521940   \n",
       "1               (WOODEN TREE CHRISTMAS SCANDINAVIAN)            0.736721   \n",
       "2              (WOODEN HEART CHRISTMAS SCANDINAVIAN)            0.521940   \n",
       "3               (WOODEN TREE CHRISTMAS SCANDINAVIAN)            0.736721   \n",
       "4  (WOODEN HEART CHRISTMAS SCANDINAVIAN, WOODEN S...            0.521940   \n",
       "\n",
       "   consequent support   support  confidence      lift  leverage  conviction  \\\n",
       "0            0.736721  0.420323    0.805310  1.093101  0.035799    1.352299   \n",
       "1            0.521940  0.420323    0.570533  1.093101  0.035799    1.113147   \n",
       "2            0.736721  0.420323    0.805310  1.093101  0.035799    1.352299   \n",
       "3            0.521940  0.420323    0.570533  1.093101  0.035799    1.113147   \n",
       "4            0.736721  0.420323    0.805310  1.093101  0.035799    1.352299   \n",
       "\n",
       "   zhangs_metric  \n",
       "0       0.178160  \n",
       "1       0.323501  \n",
       "2       0.178160  \n",
       "3       0.323501  \n",
       "4       0.178160  "
      ]
     },
     "execution_count": 7,
     "metadata": {},
     "output_type": "execute_result"
    }
   ],
   "source": [
    "wooden_star_rules = association_rules(frequent_itemsets, metric=\"lift\", min_threshold=1)\n",
    "# sort\n",
    "wooden_star_rules = wooden_star_rules.sort_values(['lift','support'],ascending=False).reset_index(drop=True)\n",
    "wooden_star_rules.head()"
   ]
  },
  {
   "cell_type": "markdown",
   "id": "ea1b561a-fafa-4112-a5b6-711c08ece655",
   "metadata": {},
   "source": [
    "We generalize from the wood star. "
   ]
  },
  {
   "cell_type": "code",
   "execution_count": 8,
   "id": "18cfcb21-aa25-4865-a16e-5d4b20f71e65",
   "metadata": {
    "tags": []
   },
   "outputs": [
    {
     "name": "stdout",
     "output_type": "stream",
     "text": [
      "Items frequently bought together with WOODEN STAR CHRISTMAS SCANDINAVIAN\n"
     ]
    },
    {
     "name": "stderr",
     "output_type": "stream",
     "text": [
      "/opt/anaconda3/envs/rs_book_env/lib/python3.12/site-packages/mlxtend/frequent_patterns/fpcommon.py:110: DeprecationWarning: DataFrames with non-bool types result in worse computationalperformance and their support might be discontinued in the future.Please use a DataFrame with bool type\n",
      "  warnings.warn(\n"
     ]
    }
   ],
   "source": [
    "def frequently_bought_together(item, n=6):\n",
    "    \"\"\"\n",
    "    Return the n items which are frequently bought input item.\n",
    "    \"\"\"\n",
    "    # df of item passed\n",
    "    item_df = basket.loc[basket[item]==1]\n",
    "    # Applying apriori algorithm on item df\n",
    "    frequent_itemsets = apriori(item_df, min_support=0.15, use_colnames=True)\n",
    "    \n",
    "    # Storing association rules\n",
    "    rules = association_rules(frequent_itemsets, metric=\"lift\", min_threshold=1)\n",
    "    \n",
    "    # Sorting on lift and support\n",
    "    rules.sort_values(['lift','support'],ascending=False).reset_index(drop=True)\n",
    "    \n",
    "    print('Items frequently bought together with {0}'.format(item))\n",
    "    \n",
    "    # Returning top 6 items with highest lift and support\n",
    "    return rules['consequents'].unique()[:6]\n",
    "\n",
    "rules = frequently_bought_together('WOODEN STAR CHRISTMAS SCANDINAVIAN')"
   ]
  },
  {
   "cell_type": "markdown",
   "id": "cf1721f4-36de-4b01-893d-64ef725a2cf5",
   "metadata": {},
   "source": [
    "NetworkX can visualize graphs. we will Color the items yellow and relations green. "
   ]
  },
  {
   "cell_type": "code",
   "execution_count": 9,
   "id": "e57f0d31-5ac5-4538-a5e3-feee2313894b",
   "metadata": {
    "tags": []
   },
   "outputs": [
    {
     "ename": "NameError",
     "evalue": "name 'edges' is not defined",
     "output_type": "error",
     "traceback": [
      "\u001b[0;31m---------------------------------------------------------------------------\u001b[0m",
      "\u001b[0;31mNameError\u001b[0m                                 Traceback (most recent call last)",
      "Cell \u001b[0;32mIn[9], line 45\u001b[0m\n\u001b[1;32m     42\u001b[0m     \u001b[38;5;28;01melse\u001b[39;00m:\n\u001b[1;32m     43\u001b[0m         color_map\u001b[38;5;241m.\u001b[39mappend(\u001b[38;5;124m'\u001b[39m\u001b[38;5;124mgreen\u001b[39m\u001b[38;5;124m'\u001b[39m)       \n\u001b[0;32m---> 45\u001b[0m colors \u001b[38;5;241m=\u001b[39m [G1[u][v][\u001b[38;5;124m'\u001b[39m\u001b[38;5;124mcolor\u001b[39m\u001b[38;5;124m'\u001b[39m] \u001b[38;5;28;01mfor\u001b[39;00m u,v \u001b[38;5;129;01min\u001b[39;00m \u001b[43medges\u001b[49m]\n\u001b[1;32m     46\u001b[0m weights \u001b[38;5;241m=\u001b[39m [G1[u][v][\u001b[38;5;124m'\u001b[39m\u001b[38;5;124mweight\u001b[39m\u001b[38;5;124m'\u001b[39m] \u001b[38;5;28;01mfor\u001b[39;00m u,v \u001b[38;5;129;01min\u001b[39;00m edges] \n\u001b[1;32m     47\u001b[0m pos \u001b[38;5;241m=\u001b[39m nx\u001b[38;5;241m.\u001b[39mspring_layout(G1, k\u001b[38;5;241m=\u001b[39m\u001b[38;5;241m16\u001b[39m, scale\u001b[38;5;241m=\u001b[39m\u001b[38;5;241m1\u001b[39m)\n",
      "\u001b[0;31mNameError\u001b[0m: name 'edges' is not defined"
     ]
    }
   ],
   "source": [
    "import networkx as nx\n",
    "import numpy as np\n",
    "\n",
    "G1 = nx.DiGraph()\n",
    "no_of_rules = 5\n",
    "color_map=[]\n",
    "N = 50\n",
    "pos =dict()\n",
    "colors = np.random.rand(no_of_rules) #(N)    \n",
    "strs= [] \n",
    "\n",
    "for i in range (no_of_rules):      \n",
    "    # adding as many nodes as number of rules requested by user\n",
    "    st = \"R\"+str(i)\n",
    "    strs.append(st)\n",
    "    G1.add_nodes_from([st])\n",
    "    pos[st] = [1,i]\n",
    "\n",
    "\n",
    "    # adding antecedents to the nodes \n",
    "    for a in wooden_star_rules.iloc[i]['antecedents']:                \n",
    "        G1.add_nodes_from([a], color='blue')\n",
    "        pos[a] = [0, i]\n",
    "        G1.add_edge(a, st, \n",
    "                    color=colors[i] , weight = 2)\n",
    "\n",
    "    # adding consequents to the nodes\n",
    "    for c in wooden_star_rules.iloc[i]['consequents']:         \n",
    "            G1.add_nodes_from([c])\n",
    "            pos[c] = [2,i]\n",
    "            G1.add_edge(st, c, \n",
    "                        color=colors[i],  weight=2)\n",
    "\n",
    "# Color the items yellow and relations green. \n",
    "for node in G1:\n",
    "    found_a_string = False\n",
    "    for item in strs: \n",
    "        if node==item:\n",
    "            found_a_string = True\n",
    "    if found_a_string:\n",
    "        color_map.append('yellow')\n",
    "    else:\n",
    "        color_map.append('green')       \n",
    "\n",
    "colors = [G1[u][v]['color'] for u,v in edges]\n",
    "weights = [G1[u][v]['weight'] for u,v in edges] \n",
    "pos = nx.spring_layout(G1, k=16, scale=1)\n",
    "nx.draw(\n",
    "    G1, \n",
    "    # pos=nx.spring_layout(G1),\n",
    "    # pos, \n",
    "    # edges=edges, \n",
    "    node_color = color_map, \n",
    "    edge_color=colors, \n",
    "    width=weights, \n",
    "    font_size=26, \n",
    "    with_labels=False)            \n",
    "\n",
    "# for p in pos:  # raise text positions\n",
    "#        pos[p][1] += 0.07\n",
    "        \n",
    "nx.draw_networkx_labels(G1, pos);\n"
   ]
  },
  {
   "cell_type": "markdown",
   "id": "f1c4642d-5b7f-4d12-bced-17fce33fa9a4",
   "metadata": {
    "tags": []
   },
   "source": [
    "Note that R3 has two antecedents and one consequent."
   ]
  },
  {
   "cell_type": "markdown",
   "id": "d496b672-9ea6-4956-bccc-a8c9fa7f75f2",
   "metadata": {},
   "source": [
    "# 3 Content Based"
   ]
  },
  {
   "cell_type": "markdown",
   "id": "c57c1aff-d3ba-4a10-a2bb-b38ff8cc3709",
   "metadata": {},
   "source": [
    "Content based recommender systems make recommendations based on the similarity of description of items. To do this, the descriptions must be translated into vectors and similar vectors must be chosen. \n",
    "\n",
    "There are classical ways of embedding words based on word counts; \n",
    "- one hot encoding is just boolean. \n",
    "- CountVectorizer gives token counts. \n",
    "- TF-IDF is the more sophisticated option. \n",
    "\n",
    "But to capture semantic content we should use more than just counts of words. "
   ]
  },
  {
   "cell_type": "markdown",
   "id": "868c0ae3-f9b3-4f0e-8565-d2f10127fe48",
   "metadata": {},
   "source": [
    "The folowing are embedding tools that capture semantics that we will use:\n",
    "- Word2vec\n",
    "- GloVe \n",
    "- fastText\n",
    "\n",
    "There are others:\n",
    "- Elmo\n",
    "- SentenceBERT\n",
    "- GPT "
   ]
  },
  {
   "cell_type": "markdown",
   "id": "8d6898e1-a13c-4498-af8d-ab7e7aa50562",
   "metadata": {},
   "source": [
    "## Word2vec\n",
    "\n",
    "This is a 2 layer NN that produces an embedding. \n",
    "\n",
    "It is trained with two parts. Those parts have the following in common:\n",
    "- assign a unique index to each word in the corpus\n",
    "- generate training samples by sliding widow of width n words\n",
    "- words -> vectors with current embedding\n",
    "The parts are then two NNs, each with a single hidden layer.\n",
    "1. Continuous Bag Of Words (CBOW) \n",
    "    - remove a word, ask the NN to predit the word\n",
    "    - update embedding to minimize prediction error\n",
    "    - thereby approach an embedding that captures semantics by optimized interpolatin of words.\n",
    "2. Skip-Gram\n",
    "    - take a word and use it as input to the NN to predict the other words\n",
    "    - update embedding to minimize prediction error\n",
    "    - thereby approach an embedding that captures semantics by optimized extrapolation of words (in both directions).\n",
    "\n",
    "The resulting embedding has codomain a vector space of dimension equal to the number of unique words in the corpus. This is often chosen to be a few hundred. Words that share common contexts in the corpus are located closely in the vector space. \n",
    "\n",
    "Word2vec is computationally efficient in the task of creating an embedding from raw text in a corpus in a way that captures semantic meaning in that corpus. "
   ]
  },
  {
   "cell_type": "markdown",
   "id": "bcfd699d-e8f0-4bcb-a869-72e73ade6a67",
   "metadata": {},
   "source": [
    "## fastText\n",
    "\n",
    "This extension of Word2vec represents each word as a n-gram. e.g. with n=3 the word \"artificial\" is represented as <ar, art, rti, tif, ifi, fic, ici, ial, al>, where the angular brackets indicate the beginning and end of the word. This helps capture prefixes and suffixes. It is also able to handle rare and not-seen-before words to a better extent. \n",
    "\n",
    "FastText thus finds embeddings for subwords. "
   ]
  },
  {
   "cell_type": "markdown",
   "id": "194194ae-0373-47b3-ac78-72eac3cf7e9d",
   "metadata": {},
   "source": [
    "## GloVe\n",
    "\n",
    "Global Vectors for Word Representation is not a NN; it uses co-occurance statistics. \n",
    "\n",
    "Consider the following corpus consisting of one document\n",
    "\n",
    "```text\n",
    "Roses are red. Sky is blue.\n",
    "```\n",
    "\n",
    "With a sliding window of size 3 we have the following matrix as below:\n",
    "\n",
    "|         | roses | are | red | sky | is | blue |\n",
    "|---------|-------|-----|-----|-----|----|------|\n",
    "| roses   | 0     | 1   | 1   | 0   | 0  | 0    |\n",
    "| are     | 1     | 0   | 2   | 1   | 1  | 1    |\n",
    "| red     | 1     | 2   | 0   | 2   | 1  | 1    |\n",
    "| sky     | 0     | 1   | 2   | 0   | 2  | 1    |\n",
    "| is      | 0     | 1   | 1   | 2   | 0  | 1    |\n",
    "| blue    | 0     | 1   | 1   | 1   | 1  | 0    |\n",
    "\n",
    "- Co-occurrence matrix is word by word, with entries the count of times two words appear in the same window of words slid across the documents in the corpus. \n",
    "- word frequencies are also used. \n",
    "- Training is finding an embedding that makes the dot product of word embeddings equal to the log of the co-occurance ratios; if $\\phi$ is the embedding and $C$ the co-occurance ratio \n",
    "$$\n",
    "\\phi^* = \\underset{\\phi}{\\text{argmax}} \n",
    "\\sum_{u,v}\\Vert \\langle \\phi(u) | \\phi(u) \\rangle - \\log(C(u,v))\\Vert\n",
    "$$\n",
    "- Since the co-occurance is across the entire corpus, the information is global, not local to the window. (This sounds dumb)."
   ]
  },
  {
   "cell_type": "markdown",
   "id": "51b46448-1da3-443a-afe3-a73ae7b88d2c",
   "metadata": {},
   "source": [
    "## Summary \n",
    "\n",
    "Any way you generate embeddings, the idea is to use vector similarity to identify similar item descriptions, and thus similar items. Similarity of vectors can be angle, cosine, euclidean, manhattan, or other. I presume that there are reasons for these choices in different contexts, but have yet to encounter those reasons. "
   ]
  },
  {
   "cell_type": "markdown",
   "id": "3b9ab409-eca6-4640-a10e-08a2a6f9fbcb",
   "metadata": {},
   "source": [
    "# 4 Collaborative Filtering"
   ]
  },
  {
   "cell_type": "code",
   "execution_count": null,
   "id": "2d0ee8ce-6033-44e7-888f-5349877eb995",
   "metadata": {},
   "outputs": [],
   "source": []
  },
  {
   "cell_type": "code",
   "execution_count": null,
   "id": "f56cb3c3-abf0-45cd-8f31-5878b9e0c8a0",
   "metadata": {},
   "outputs": [],
   "source": []
  },
  {
   "cell_type": "raw",
   "id": "8fdd9beb-6b72-4a1f-8c07-86c6471808ee",
   "metadata": {},
   "source": [
    "Collaborative filtering has two technique types\n",
    "1. Memory Based Aproach\n",
    "2. Model based approach"
   ]
  },
  {
   "cell_type": "markdown",
   "id": "2621e29f-549c-44cd-a663-7eb8eec783bc",
   "metadata": {},
   "source": [
    "## Memory Based Approaches"
   ]
  },
  {
   "cell_type": "markdown",
   "id": "e7dbcba4-5b21-4f7f-942a-b65e1c7ef82f",
   "metadata": {},
   "source": [
    "**Definmition:** The <u>memory based approach</u> to recommender systems uses a record of user-item interactions to generate recommendations. \n",
    "\n",
    "There are two kinds of memory based approach;\n",
    "- user-to-user generates recommendations for a user based on what users with similar user-item interactions has interacted with that the user has not. \n",
    "    - a user-vs-item matrix has rows that represent a user, and the cosine similarity between rows is similarity between users. \n",
    "- item-to-item memory based approach generates recommendations for a user based on items \n",
    "    - a user-vs-item matrix has columns that represent an item, and cosine similarity between is similarity between items. \n",
    "\n",
    "The user-vs-item matrix can be boolean \"purchased\", can be rating, etc. \n",
    "\n",
    "In either case, performance degrades with sparse data, so a large amount of data is required when there are a large number of items. "
   ]
  },
  {
   "cell_type": "markdown",
   "id": "90e45399-0fb0-419e-99b0-1834c4e3bbb0",
   "metadata": {},
   "source": [
    "The Library Surprise is a Python scikit for building and analyzing recommender systems. It provides a simple and intuitive API to create and evaluate collaborative filtering models."
   ]
  },
  {
   "cell_type": "markdown",
   "id": "836bb4e7-b1bc-46b3-bcca-62f40f4c54aa",
   "metadata": {},
   "source": [
    "### User to user Implementations"
   ]
  },
  {
   "cell_type": "markdown",
   "id": "c167f58a-3c98-4365-afab-1b93f77135fe",
   "metadata": {},
   "source": [
    "From purchase history vector similarity"
   ]
  },
  {
   "cell_type": "markdown",
   "id": "8c4fa464-4906-4112-ad2a-43af743d1bc8",
   "metadata": {},
   "source": [
    "Goal: make a matrix with customers vs items and entries a boolean for \"bought\". \n",
    "\n",
    "We start with a history of trasnactions that include item codes (`StockCode`) and User IDs (`CustomerID`)."
   ]
  },
  {
   "cell_type": "code",
   "execution_count": 11,
   "id": "306302c1-3a0a-4209-a6ed-f0869efb8b0d",
   "metadata": {
    "tags": []
   },
   "outputs": [
    {
     "data": {
      "text/html": [
       "<div>\n",
       "<style scoped>\n",
       "    .dataframe tbody tr th:only-of-type {\n",
       "        vertical-align: middle;\n",
       "    }\n",
       "\n",
       "    .dataframe tbody tr th {\n",
       "        vertical-align: top;\n",
       "    }\n",
       "\n",
       "    .dataframe thead th {\n",
       "        text-align: right;\n",
       "    }\n",
       "</style>\n",
       "<table border=\"1\" class=\"dataframe\">\n",
       "  <thead>\n",
       "    <tr style=\"text-align: right;\">\n",
       "      <th></th>\n",
       "      <th>InvoiceNo</th>\n",
       "      <th>StockCode</th>\n",
       "      <th>Quantity</th>\n",
       "      <th>InvoiceDate</th>\n",
       "      <th>DeliveryDate</th>\n",
       "      <th>Discount%</th>\n",
       "      <th>ShipMode</th>\n",
       "      <th>ShippingCost</th>\n",
       "      <th>CustomerID</th>\n",
       "    </tr>\n",
       "  </thead>\n",
       "  <tbody>\n",
       "    <tr>\n",
       "      <th>0</th>\n",
       "      <td>536365</td>\n",
       "      <td>84029E</td>\n",
       "      <td>6</td>\n",
       "      <td>2010-12-01 08:26:00</td>\n",
       "      <td>2010-12-02 08:26:00</td>\n",
       "      <td>0.20</td>\n",
       "      <td>ExpressAir</td>\n",
       "      <td>30.12</td>\n",
       "      <td>17850</td>\n",
       "    </tr>\n",
       "    <tr>\n",
       "      <th>1</th>\n",
       "      <td>536365</td>\n",
       "      <td>71053</td>\n",
       "      <td>6</td>\n",
       "      <td>2010-12-01 08:26:00</td>\n",
       "      <td>2010-12-02 08:26:00</td>\n",
       "      <td>0.21</td>\n",
       "      <td>ExpressAir</td>\n",
       "      <td>30.12</td>\n",
       "      <td>17850</td>\n",
       "    </tr>\n",
       "    <tr>\n",
       "      <th>2</th>\n",
       "      <td>536365</td>\n",
       "      <td>21730</td>\n",
       "      <td>6</td>\n",
       "      <td>2010-12-01 08:26:00</td>\n",
       "      <td>2010-12-03 08:26:00</td>\n",
       "      <td>0.56</td>\n",
       "      <td>Regular Air</td>\n",
       "      <td>15.22</td>\n",
       "      <td>17850</td>\n",
       "    </tr>\n",
       "    <tr>\n",
       "      <th>3</th>\n",
       "      <td>536365</td>\n",
       "      <td>84406B</td>\n",
       "      <td>8</td>\n",
       "      <td>2010-12-01 08:26:00</td>\n",
       "      <td>2010-12-03 08:26:00</td>\n",
       "      <td>0.30</td>\n",
       "      <td>Regular Air</td>\n",
       "      <td>15.22</td>\n",
       "      <td>17850</td>\n",
       "    </tr>\n",
       "    <tr>\n",
       "      <th>4</th>\n",
       "      <td>536365</td>\n",
       "      <td>22752</td>\n",
       "      <td>2</td>\n",
       "      <td>2010-12-01 08:26:00</td>\n",
       "      <td>2010-12-04 08:26:00</td>\n",
       "      <td>0.57</td>\n",
       "      <td>Delivery Truck</td>\n",
       "      <td>5.81</td>\n",
       "      <td>17850</td>\n",
       "    </tr>\n",
       "  </tbody>\n",
       "</table>\n",
       "</div>"
      ],
      "text/plain": [
       "   InvoiceNo StockCode  Quantity          InvoiceDate         DeliveryDate  \\\n",
       "0     536365    84029E         6  2010-12-01 08:26:00  2010-12-02 08:26:00   \n",
       "1     536365     71053         6  2010-12-01 08:26:00  2010-12-02 08:26:00   \n",
       "2     536365     21730         6  2010-12-01 08:26:00  2010-12-03 08:26:00   \n",
       "3     536365    84406B         8  2010-12-01 08:26:00  2010-12-03 08:26:00   \n",
       "4     536365     22752         2  2010-12-01 08:26:00  2010-12-04 08:26:00   \n",
       "\n",
       "   Discount%        ShipMode  ShippingCost  CustomerID  \n",
       "0       0.20      ExpressAir         30.12       17850  \n",
       "1       0.21      ExpressAir         30.12       17850  \n",
       "2       0.56     Regular Air         15.22       17850  \n",
       "3       0.30     Regular Air         15.22       17850  \n",
       "4       0.57  Delivery Truck          5.81       17850  "
      ]
     },
     "execution_count": 11,
     "metadata": {},
     "output_type": "execute_result"
    }
   ],
   "source": [
    "data1 = pd.read_csv(\"./Data/purchase_data.csv\", index_col=0)\n",
    "data1.head()"
   ]
  },
  {
   "cell_type": "code",
   "execution_count": null,
   "id": "4a0aa173-e00e-4c84-b328-f61af6b8a9d8",
   "metadata": {
    "tags": []
   },
   "outputs": [],
   "source": [
    "# Make [customerID , StockCode] a multi-index.\n",
    "data1.groupby(['CustomerID', 'StockCode'])['Quantity'].sum()"
   ]
  },
  {
   "cell_type": "code",
   "execution_count": null,
   "id": "e593a395-e1a4-49e3-a8fa-4154bb9c09ef",
   "metadata": {
    "tags": []
   },
   "outputs": [],
   "source": [
    "# Change from multi-index to array CustomerIDs by StockCodes. \n",
    "data1.groupby(['CustomerID', 'StockCode'])['Quantity'].sum().unstack().head(3)"
   ]
  },
  {
   "cell_type": "code",
   "execution_count": null,
   "id": "00b64242-2bfc-4429-bce0-ab399843e956",
   "metadata": {
    "tags": []
   },
   "outputs": [],
   "source": [
    "# Most entries are NaN->0. \n",
    "data1.groupby(['CustomerID', 'StockCode'])['Quantity'].sum().unstack().fillna(0).head(3)"
   ]
  },
  {
   "cell_type": "code",
   "execution_count": null,
   "id": "977ea5a8-eaf6-4255-a9ed-b363f14cf5b6",
   "metadata": {
    "tags": []
   },
   "outputs": [],
   "source": [
    "# Transform entries to 0,1. \n",
    "purchase_df = (\n",
    "    data1.groupby(['CustomerID', 'StockCode'])['Quantity'].sum()\\\n",
    "        .unstack().fillna(0).map(bool).map(int)\n",
    ")\n",
    "\n",
    "#Visually inspect.\n",
    "print(purchase_df.shape)\n",
    "print(purchase_df.sum().head())\n",
    "purchase_df.head()"
   ]
  },
  {
   "cell_type": "markdown",
   "id": "63fbfb82-a7db-40c9-83c3-1943384ac97d",
   "metadata": {},
   "source": [
    "The library Sklearn has a function to transform a list of vectors to matrix of \"distances\". We will use cosine similarity here. "
   ]
  },
  {
   "cell_type": "code",
   "execution_count": null,
   "id": "aeb719c4-2d25-4b00-82ef-adfa2ace11e4",
   "metadata": {
    "tags": []
   },
   "outputs": [],
   "source": [
    "from sklearn.metrics.pairwise import cosine_similarity\n",
    "\n",
    "user_similarities = cosine_similarity(X=purchase_df) # No Y=> create matrix.\n",
    "print(user_similarities.shape)\n",
    "\n",
    "# Storing the similarity scores in a dataframe, i.e., the similarity scores matrix\n",
    "user_similarity_data = pd.DataFrame(\n",
    "    data=user_similarities,\n",
    "    index=purchase_df.index,\n",
    "    columns=purchase_df.index\n",
    ")\n",
    "\n",
    "# Close to 1 means similar, 0 means not similar.\n",
    "user_similarity_data.head()"
   ]
  },
  {
   "cell_type": "code",
   "execution_count": null,
   "id": "0762d211-2188-4d0c-8d0a-5bddbd22baba",
   "metadata": {
    "tags": []
   },
   "outputs": [],
   "source": [
    "def fetch_similar_users(user_id, n_users = 10):\n",
    "    user_similarity = user_similarity_data[user_id]\n",
    "    user_similarity = user_similarity[user_similarity!=1]\n",
    "    return list(user_similarity.sort_values(ascending=False).index[:n_users])\n",
    "\n",
    "fetch_similar_users(user_id = 12347, n_users=3)"
   ]
  },
  {
   "cell_type": "code",
   "execution_count": null,
   "id": "6820abfd-bf29-4bce-9117-943cef15a92d",
   "metadata": {
    "tags": []
   },
   "outputs": [],
   "source": [
    "import random \n",
    "\n",
    "def user_user_recommendation(userid, n_users = 10, n_recommendations = 10):\n",
    "    \n",
    "    similar_users = fetch_similar_users(userid, n_users)\n",
    "    # Obtain all items bought by similar users.\n",
    "    recommendation_list = []\n",
    "    for similar_user in similar_users:\n",
    "        similar_user_filter = (data1[\"CustomerID\"]==similar_user)\n",
    "        item_list = data1[similar_user_filter]['StockCode'].to_list()\n",
    "        recommendation_list += item_list\n",
    "    return random.sample(recommendation_list, n_recommendations)    \n",
    "\n",
    "\n",
    "print(f'Items bought by similar users based on Cosine Similarity:')\n",
    "\n",
    "user_user_recommendation(\n",
    "    userid = 12347, \n",
    "    n_users = 10, \n",
    "    n_recommendations = 2\n",
    ")"
   ]
  },
  {
   "cell_type": "markdown",
   "id": "aa064668-459d-49db-8545-9469b5423551",
   "metadata": {},
   "source": [
    "### Item to item implementation"
   ]
  },
  {
   "cell_type": "code",
   "execution_count": 11,
   "id": "74382d63-6044-412a-ad4a-b8c34ef3cdf6",
   "metadata": {
    "tags": []
   },
   "outputs": [
    {
     "data": {
      "text/html": [
       "<div>\n",
       "<style scoped>\n",
       "    .dataframe tbody tr th:only-of-type {\n",
       "        vertical-align: middle;\n",
       "    }\n",
       "\n",
       "    .dataframe tbody tr th {\n",
       "        vertical-align: top;\n",
       "    }\n",
       "\n",
       "    .dataframe thead th {\n",
       "        text-align: right;\n",
       "    }\n",
       "</style>\n",
       "<table border=\"1\" class=\"dataframe\">\n",
       "  <thead>\n",
       "    <tr style=\"text-align: right;\">\n",
       "      <th></th>\n",
       "      <th>InvoiceNo</th>\n",
       "      <th>StockCode</th>\n",
       "      <th>Quantity</th>\n",
       "      <th>InvoiceDate</th>\n",
       "      <th>DeliveryDate</th>\n",
       "      <th>Discount%</th>\n",
       "      <th>ShipMode</th>\n",
       "      <th>ShippingCost</th>\n",
       "      <th>CustomerID</th>\n",
       "    </tr>\n",
       "  </thead>\n",
       "  <tbody>\n",
       "    <tr>\n",
       "      <th>0</th>\n",
       "      <td>536365</td>\n",
       "      <td>84029E</td>\n",
       "      <td>6</td>\n",
       "      <td>2010-12-01 08:26:00</td>\n",
       "      <td>2010-12-02 08:26:00</td>\n",
       "      <td>0.20</td>\n",
       "      <td>ExpressAir</td>\n",
       "      <td>30.12</td>\n",
       "      <td>17850</td>\n",
       "    </tr>\n",
       "    <tr>\n",
       "      <th>1</th>\n",
       "      <td>536365</td>\n",
       "      <td>71053</td>\n",
       "      <td>6</td>\n",
       "      <td>2010-12-01 08:26:00</td>\n",
       "      <td>2010-12-02 08:26:00</td>\n",
       "      <td>0.21</td>\n",
       "      <td>ExpressAir</td>\n",
       "      <td>30.12</td>\n",
       "      <td>17850</td>\n",
       "    </tr>\n",
       "    <tr>\n",
       "      <th>2</th>\n",
       "      <td>536365</td>\n",
       "      <td>21730</td>\n",
       "      <td>6</td>\n",
       "      <td>2010-12-01 08:26:00</td>\n",
       "      <td>2010-12-03 08:26:00</td>\n",
       "      <td>0.56</td>\n",
       "      <td>Regular Air</td>\n",
       "      <td>15.22</td>\n",
       "      <td>17850</td>\n",
       "    </tr>\n",
       "    <tr>\n",
       "      <th>3</th>\n",
       "      <td>536365</td>\n",
       "      <td>84406B</td>\n",
       "      <td>8</td>\n",
       "      <td>2010-12-01 08:26:00</td>\n",
       "      <td>2010-12-03 08:26:00</td>\n",
       "      <td>0.30</td>\n",
       "      <td>Regular Air</td>\n",
       "      <td>15.22</td>\n",
       "      <td>17850</td>\n",
       "    </tr>\n",
       "    <tr>\n",
       "      <th>4</th>\n",
       "      <td>536365</td>\n",
       "      <td>22752</td>\n",
       "      <td>2</td>\n",
       "      <td>2010-12-01 08:26:00</td>\n",
       "      <td>2010-12-04 08:26:00</td>\n",
       "      <td>0.57</td>\n",
       "      <td>Delivery Truck</td>\n",
       "      <td>5.81</td>\n",
       "      <td>17850</td>\n",
       "    </tr>\n",
       "  </tbody>\n",
       "</table>\n",
       "</div>"
      ],
      "text/plain": [
       "   InvoiceNo StockCode  Quantity          InvoiceDate         DeliveryDate  \\\n",
       "0     536365    84029E         6  2010-12-01 08:26:00  2010-12-02 08:26:00   \n",
       "1     536365     71053         6  2010-12-01 08:26:00  2010-12-02 08:26:00   \n",
       "2     536365     21730         6  2010-12-01 08:26:00  2010-12-03 08:26:00   \n",
       "3     536365    84406B         8  2010-12-01 08:26:00  2010-12-03 08:26:00   \n",
       "4     536365     22752         2  2010-12-01 08:26:00  2010-12-04 08:26:00   \n",
       "\n",
       "   Discount%        ShipMode  ShippingCost  CustomerID  \n",
       "0       0.20      ExpressAir         30.12       17850  \n",
       "1       0.21      ExpressAir         30.12       17850  \n",
       "2       0.56     Regular Air         15.22       17850  \n",
       "3       0.30     Regular Air         15.22       17850  \n",
       "4       0.57  Delivery Truck          5.81       17850  "
      ]
     },
     "execution_count": 11,
     "metadata": {},
     "output_type": "execute_result"
    }
   ],
   "source": [
    "data1 = pd.read_csv(\"./Data/purchase_data.csv\", index_col=0)\n",
    "data1.head()"
   ]
  },
  {
   "cell_type": "code",
   "execution_count": 12,
   "id": "00813975-92f9-4ea1-8067-f8a8f5494676",
   "metadata": {
    "tags": []
   },
   "outputs": [],
   "source": [
    "# Groupby is in reverse order from user-user example; items are now rows.\n",
    "items_purchase_df = (data1.groupby(['StockCode','CustomerID'])['Quantity'].sum().unstack().reset_index().fillna(0).set_index('StockCode'))\n",
    "# 1 for purchased, 0 for not\n",
    "items_purchase_df = items_purchase_df.map(bool).map(int)"
   ]
  },
  {
   "cell_type": "code",
   "execution_count": 19,
   "id": "36d0b3e2-9bd5-41ff-86d5-5091c4ec1158",
   "metadata": {
    "tags": []
   },
   "outputs": [
    {
     "data": {
      "text/html": [
       "<div>\n",
       "<style scoped>\n",
       "    .dataframe tbody tr th:only-of-type {\n",
       "        vertical-align: middle;\n",
       "    }\n",
       "\n",
       "    .dataframe tbody tr th {\n",
       "        vertical-align: top;\n",
       "    }\n",
       "\n",
       "    .dataframe thead th {\n",
       "        text-align: right;\n",
       "    }\n",
       "</style>\n",
       "<table border=\"1\" class=\"dataframe\">\n",
       "  <thead>\n",
       "    <tr style=\"text-align: right;\">\n",
       "      <th>StockCode</th>\n",
       "      <th>10002</th>\n",
       "      <th>10080</th>\n",
       "      <th>10120</th>\n",
       "      <th>10123C</th>\n",
       "      <th>10124A</th>\n",
       "      <th>10124G</th>\n",
       "      <th>10125</th>\n",
       "      <th>10133</th>\n",
       "      <th>10135</th>\n",
       "      <th>11001</th>\n",
       "      <th>...</th>\n",
       "      <th>90214R</th>\n",
       "      <th>90214S</th>\n",
       "      <th>90214V</th>\n",
       "      <th>90214Y</th>\n",
       "      <th>BANK CHARGES</th>\n",
       "      <th>C2</th>\n",
       "      <th>DOT</th>\n",
       "      <th>M</th>\n",
       "      <th>PADS</th>\n",
       "      <th>POST</th>\n",
       "    </tr>\n",
       "    <tr>\n",
       "      <th>StockCode</th>\n",
       "      <th></th>\n",
       "      <th></th>\n",
       "      <th></th>\n",
       "      <th></th>\n",
       "      <th></th>\n",
       "      <th></th>\n",
       "      <th></th>\n",
       "      <th></th>\n",
       "      <th></th>\n",
       "      <th></th>\n",
       "      <th></th>\n",
       "      <th></th>\n",
       "      <th></th>\n",
       "      <th></th>\n",
       "      <th></th>\n",
       "      <th></th>\n",
       "      <th></th>\n",
       "      <th></th>\n",
       "      <th></th>\n",
       "      <th></th>\n",
       "      <th></th>\n",
       "    </tr>\n",
       "  </thead>\n",
       "  <tbody>\n",
       "    <tr>\n",
       "      <th>10002</th>\n",
       "      <td>1.000000</td>\n",
       "      <td>0.0</td>\n",
       "      <td>0.108821</td>\n",
       "      <td>0.091287</td>\n",
       "      <td>0.0</td>\n",
       "      <td>0.000000</td>\n",
       "      <td>0.094281</td>\n",
       "      <td>0.062932</td>\n",
       "      <td>0.091902</td>\n",
       "      <td>0.110096</td>\n",
       "      <td>...</td>\n",
       "      <td>0.0</td>\n",
       "      <td>0.0</td>\n",
       "      <td>0.0</td>\n",
       "      <td>0.0</td>\n",
       "      <td>0.0</td>\n",
       "      <td>0.032275</td>\n",
       "      <td>0.0</td>\n",
       "      <td>0.079333</td>\n",
       "      <td>0.0</td>\n",
       "      <td>0.066986</td>\n",
       "    </tr>\n",
       "    <tr>\n",
       "      <th>10080</th>\n",
       "      <td>0.000000</td>\n",
       "      <td>1.0</td>\n",
       "      <td>0.000000</td>\n",
       "      <td>0.000000</td>\n",
       "      <td>0.0</td>\n",
       "      <td>0.000000</td>\n",
       "      <td>0.043033</td>\n",
       "      <td>0.028724</td>\n",
       "      <td>0.067116</td>\n",
       "      <td>0.000000</td>\n",
       "      <td>...</td>\n",
       "      <td>0.0</td>\n",
       "      <td>0.0</td>\n",
       "      <td>0.0</td>\n",
       "      <td>0.0</td>\n",
       "      <td>0.0</td>\n",
       "      <td>0.000000</td>\n",
       "      <td>0.0</td>\n",
       "      <td>0.000000</td>\n",
       "      <td>0.0</td>\n",
       "      <td>0.000000</td>\n",
       "    </tr>\n",
       "    <tr>\n",
       "      <th>10120</th>\n",
       "      <td>0.108821</td>\n",
       "      <td>0.0</td>\n",
       "      <td>1.000000</td>\n",
       "      <td>0.132453</td>\n",
       "      <td>0.0</td>\n",
       "      <td>0.000000</td>\n",
       "      <td>0.068399</td>\n",
       "      <td>0.068483</td>\n",
       "      <td>0.026669</td>\n",
       "      <td>0.079872</td>\n",
       "      <td>...</td>\n",
       "      <td>0.0</td>\n",
       "      <td>0.0</td>\n",
       "      <td>0.0</td>\n",
       "      <td>0.0</td>\n",
       "      <td>0.0</td>\n",
       "      <td>0.000000</td>\n",
       "      <td>0.0</td>\n",
       "      <td>0.076739</td>\n",
       "      <td>0.0</td>\n",
       "      <td>0.013885</td>\n",
       "    </tr>\n",
       "    <tr>\n",
       "      <th>10123C</th>\n",
       "      <td>0.091287</td>\n",
       "      <td>0.0</td>\n",
       "      <td>0.132453</td>\n",
       "      <td>1.000000</td>\n",
       "      <td>0.0</td>\n",
       "      <td>0.000000</td>\n",
       "      <td>0.172133</td>\n",
       "      <td>0.000000</td>\n",
       "      <td>0.000000</td>\n",
       "      <td>0.000000</td>\n",
       "      <td>...</td>\n",
       "      <td>0.0</td>\n",
       "      <td>0.0</td>\n",
       "      <td>0.0</td>\n",
       "      <td>0.0</td>\n",
       "      <td>0.0</td>\n",
       "      <td>0.000000</td>\n",
       "      <td>0.0</td>\n",
       "      <td>0.000000</td>\n",
       "      <td>0.0</td>\n",
       "      <td>0.000000</td>\n",
       "    </tr>\n",
       "    <tr>\n",
       "      <th>10124A</th>\n",
       "      <td>0.000000</td>\n",
       "      <td>0.0</td>\n",
       "      <td>0.000000</td>\n",
       "      <td>0.000000</td>\n",
       "      <td>1.0</td>\n",
       "      <td>0.288675</td>\n",
       "      <td>0.074536</td>\n",
       "      <td>0.049752</td>\n",
       "      <td>0.000000</td>\n",
       "      <td>0.000000</td>\n",
       "      <td>...</td>\n",
       "      <td>0.0</td>\n",
       "      <td>0.0</td>\n",
       "      <td>0.0</td>\n",
       "      <td>0.0</td>\n",
       "      <td>0.0</td>\n",
       "      <td>0.000000</td>\n",
       "      <td>0.0</td>\n",
       "      <td>0.000000</td>\n",
       "      <td>0.0</td>\n",
       "      <td>0.000000</td>\n",
       "    </tr>\n",
       "  </tbody>\n",
       "</table>\n",
       "<p>5 rows × 3538 columns</p>\n",
       "</div>"
      ],
      "text/plain": [
       "StockCode     10002  10080     10120    10123C  10124A    10124G     10125  \\\n",
       "StockCode                                                                    \n",
       "10002      1.000000    0.0  0.108821  0.091287     0.0  0.000000  0.094281   \n",
       "10080      0.000000    1.0  0.000000  0.000000     0.0  0.000000  0.043033   \n",
       "10120      0.108821    0.0  1.000000  0.132453     0.0  0.000000  0.068399   \n",
       "10123C     0.091287    0.0  0.132453  1.000000     0.0  0.000000  0.172133   \n",
       "10124A     0.000000    0.0  0.000000  0.000000     1.0  0.288675  0.074536   \n",
       "\n",
       "StockCode     10133     10135     11001  ...  90214R  90214S  90214V  90214Y  \\\n",
       "StockCode                                ...                                   \n",
       "10002      0.062932  0.091902  0.110096  ...     0.0     0.0     0.0     0.0   \n",
       "10080      0.028724  0.067116  0.000000  ...     0.0     0.0     0.0     0.0   \n",
       "10120      0.068483  0.026669  0.079872  ...     0.0     0.0     0.0     0.0   \n",
       "10123C     0.000000  0.000000  0.000000  ...     0.0     0.0     0.0     0.0   \n",
       "10124A     0.049752  0.000000  0.000000  ...     0.0     0.0     0.0     0.0   \n",
       "\n",
       "StockCode  BANK CHARGES        C2  DOT         M  PADS      POST  \n",
       "StockCode                                                         \n",
       "10002               0.0  0.032275  0.0  0.079333   0.0  0.066986  \n",
       "10080               0.0  0.000000  0.0  0.000000   0.0  0.000000  \n",
       "10120               0.0  0.000000  0.0  0.076739   0.0  0.013885  \n",
       "10123C              0.0  0.000000  0.0  0.000000   0.0  0.000000  \n",
       "10124A              0.0  0.000000  0.0  0.000000   0.0  0.000000  \n",
       "\n",
       "[5 rows x 3538 columns]"
      ]
     },
     "execution_count": 19,
     "metadata": {},
     "output_type": "execute_result"
    }
   ],
   "source": [
    "from sklearn.metrics.pairwise import cosine_similarity\n",
    "# Applying Cosine similarity on the items\n",
    "item_similarities = cosine_similarity(items_purchase_df)\n",
    "\n",
    "# Storing the similarity scores in a dataframe\n",
    "item_similarity_data = pd.DataFrame(\n",
    "    item_similarities,\n",
    "    index=items_purchase_df.index,\n",
    "    columns=items_purchase_df.index\n",
    ")\n",
    "\n",
    "item_similarity_data.head()"
   ]
  },
  {
   "cell_type": "code",
   "execution_count": 120,
   "id": "e09e9d5f-25cc-4527-b9f2-175ce400b3d7",
   "metadata": {
    "tags": []
   },
   "outputs": [
    {
     "data": {
      "text/plain": [
       "([1.0000000000000002, 0.19764235376052372, 0.18446619684315546],\n",
       " ['10002', '21826', '21439'])"
      ]
     },
     "execution_count": 120,
     "metadata": {},
     "output_type": "execute_result"
    }
   ],
   "source": [
    "def fetch_similar_items(item_id, n_similar_items=10):\n",
    "    # Get similarity values index by StockCode\n",
    "    similarity_series = item_similarity_data[item_id]\n",
    "    # Remove entries with similarity 1.\n",
    "    similarity_series = similarity_series[similarity_series != 1]\n",
    "    sorted_similarity_series = similarity_series.sort_values(ascending=False)\n",
    "    top_similarity_items = list(\n",
    "        sorted_similarity_series[:n_similar_items].index\n",
    "    )\n",
    "    top_similarity_scores = list(sorted_similarity_series[:n_similar_items])\n",
    "    # One might remove items already purchased...\n",
    "    return  top_similarity_scores, top_similarity_items\n",
    "\n",
    "fetch_similar_items(item_id='10002',n_similar_items=3)"
   ]
  },
  {
   "cell_type": "code",
   "execution_count": 121,
   "id": "b94d5072-c911-4b03-ae16-1b07286b68cf",
   "metadata": {
    "tags": []
   },
   "outputs": [
    {
     "data": {
      "text/plain": [
       "{1: 2, 3: 4}"
      ]
     },
     "execution_count": 121,
     "metadata": {},
     "output_type": "execute_result"
    }
   ],
   "source": [
    "a = {1:2}\n",
    "b={3:4}\n",
    "a |= b\n",
    "a"
   ]
  },
  {
   "cell_type": "code",
   "execution_count": 123,
   "id": "ee5bc473-d873-4555-813b-28a1a0de6023",
   "metadata": {
    "tags": []
   },
   "outputs": [
    {
     "name": "stdout",
     "output_type": "stream",
     "text": [
      "Similar items bought by other users based on Cosine Similarity:\n"
     ]
    },
    {
     "data": {
      "text/plain": [
       "['20780', '84968F', '84859B', '21056']"
      ]
     },
     "execution_count": 123,
     "metadata": {},
     "output_type": "execute_result"
    }
   ],
   "source": [
    "import random \n",
    "def similar_item_recommendation(\n",
    "    userid, n_similar_items=10, n_recommendations = 10):\n",
    "    \n",
    "    # Obtain all items bought by user.\n",
    "    user_item_list = data1[data1[\"CustomerID\"]==userid]['StockCode'].to_list()\n",
    "    # Obtain all the similar items to items bought by user.\n",
    "    recommendation_dict = dict()\n",
    "    for item in user_item_list:\n",
    "        recommendation_dict |= dict(zip(*fetch_similar_items(\n",
    "            item_id = item, \n",
    "            n_similar_items = n_similar_items\n",
    "        )))\n",
    "    # Remove items the customer already bought.\n",
    "    recommendation_dict = {score:item \n",
    "                           for score,item in recommendation_dict.items()\n",
    "                           if i not in user_item_list}\n",
    "    # Sort on scores (which are keys).\n",
    "    recommendations = sorted(recommendation_dict.items())[:n_recommendations]\n",
    "    return [item for score,item in recommendations]\n",
    "\n",
    "print('Similar items bought by other users based on Cosine Similarity:')\n",
    "\n",
    "similar_item_recommendation(\n",
    "    userid=12347,\n",
    "    n_similar_items=10, \n",
    "    n_recommendations = 4\n",
    ")"
   ]
  },
  {
   "cell_type": "markdown",
   "id": "7d157767-c9e9-4c39-a21c-cad2c7a4269f",
   "metadata": {},
   "source": [
    "### Collaborative filtering via kNN "
   ]
  },
  {
   "cell_type": "markdown",
   "id": "6242939b-2e41-4926-9939-cb609b29f89d",
   "metadata": {},
   "source": [
    "The sklearn kNN algorithm works well with sparse matrix data type. "
   ]
  },
  {
   "cell_type": "code",
   "execution_count": 124,
   "id": "0f086439-205e-4ca5-9495-5811fee8b3d8",
   "metadata": {
    "tags": []
   },
   "outputs": [
    {
     "ename": "NameError",
     "evalue": "name 'purchase_df' is not defined",
     "output_type": "error",
     "traceback": [
      "\u001b[0;31m---------------------------------------------------------------------------\u001b[0m",
      "\u001b[0;31mNameError\u001b[0m                                 Traceback (most recent call last)",
      "Cell \u001b[0;32mIn[124], line 4\u001b[0m\n\u001b[1;32m      1\u001b[0m \u001b[38;5;28;01mfrom\u001b[39;00m \u001b[38;5;21;01mscipy\u001b[39;00m\u001b[38;5;21;01m.\u001b[39;00m\u001b[38;5;21;01msparse\u001b[39;00m \u001b[38;5;28;01mimport\u001b[39;00m csr_matrix\n\u001b[1;32m      2\u001b[0m \u001b[38;5;28;01mfrom\u001b[39;00m \u001b[38;5;21;01msklearn\u001b[39;00m\u001b[38;5;21;01m.\u001b[39;00m\u001b[38;5;21;01mneighbors\u001b[39;00m \u001b[38;5;28;01mimport\u001b[39;00m NearestNeighbors\n\u001b[0;32m----> 4\u001b[0m purchase_matrix \u001b[38;5;241m=\u001b[39m csr_matrix(\u001b[43mpurchase_df\u001b[49m\u001b[38;5;241m.\u001b[39mvalues)\n\u001b[1;32m      5\u001b[0m knn_model \u001b[38;5;241m=\u001b[39m NearestNeighbors(metric \u001b[38;5;241m=\u001b[39m \u001b[38;5;124m'\u001b[39m\u001b[38;5;124meuclidean\u001b[39m\u001b[38;5;124m'\u001b[39m, algorithm \u001b[38;5;241m=\u001b[39m \u001b[38;5;124m'\u001b[39m\u001b[38;5;124mbrute\u001b[39m\u001b[38;5;124m'\u001b[39m)\n\u001b[1;32m      6\u001b[0m knn_model\u001b[38;5;241m.\u001b[39mfit(purchase_matrix)\n",
      "\u001b[0;31mNameError\u001b[0m: name 'purchase_df' is not defined"
     ]
    }
   ],
   "source": [
    "from scipy.sparse import csr_matrix\n",
    "from sklearn.neighbors import NearestNeighbors\n",
    "\n",
    "purchase_matrix = csr_matrix(purchase_df.values)\n",
    "knn_model = NearestNeighbors(metric = 'euclidean', algorithm = 'brute')\n",
    "knn_model.fit(purchase_matrix)"
   ]
  },
  {
   "cell_type": "markdown",
   "id": "b3b660d2-5db8-4c79-9d9e-474cab2996b1",
   "metadata": {},
   "source": [
    "Before we construct functions to return similar users and to return item recommendataions, understand the output of the method `.neighbors`"
   ]
  },
  {
   "cell_type": "code",
   "execution_count": 125,
   "id": "a5b855aa-b227-4732-bfe0-c031d197d413",
   "metadata": {
    "tags": []
   },
   "outputs": [
    {
     "ename": "NameError",
     "evalue": "name 'knn_model' is not defined",
     "output_type": "error",
     "traceback": [
      "\u001b[0;31m---------------------------------------------------------------------------\u001b[0m",
      "\u001b[0;31mNameError\u001b[0m                                 Traceback (most recent call last)",
      "Cell \u001b[0;32mIn[125], line 2\u001b[0m\n\u001b[1;32m      1\u001b[0m query_index \u001b[38;5;241m=\u001b[39m \u001b[38;5;241m1497\u001b[39m \n\u001b[0;32m----> 2\u001b[0m distances, indices \u001b[38;5;241m=\u001b[39m \u001b[43mknn_model\u001b[49m\u001b[38;5;241m.\u001b[39mkneighbors(\n\u001b[1;32m      3\u001b[0m     \u001b[38;5;66;03m# Required shape for X: (n_queries, n_features)\u001b[39;00m\n\u001b[1;32m      4\u001b[0m     \u001b[38;5;66;03m# thus reshape column to row.\u001b[39;00m\n\u001b[1;32m      5\u001b[0m     X \u001b[38;5;241m=\u001b[39m purchase_df\u001b[38;5;241m.\u001b[39miloc[query_index,:]\u001b[38;5;241m.\u001b[39mvalues\u001b[38;5;241m.\u001b[39mreshape(\u001b[38;5;241m1\u001b[39m, \u001b[38;5;241m-\u001b[39m\u001b[38;5;241m1\u001b[39m), \n\u001b[1;32m      6\u001b[0m     n_neighbors \u001b[38;5;241m=\u001b[39m \u001b[38;5;241m5\u001b[39m,\n\u001b[1;32m      7\u001b[0m     return_distance \u001b[38;5;241m=\u001b[39m \u001b[38;5;28;01mTrue\u001b[39;00m \u001b[38;5;66;03m# The default\u001b[39;00m\n\u001b[1;32m      8\u001b[0m )\n\u001b[1;32m     10\u001b[0m \u001b[38;5;28mprint\u001b[39m(\u001b[38;5;124mf\u001b[39m\u001b[38;5;124m\"\u001b[39m\u001b[38;5;124mThe nearest users are \u001b[39m\u001b[38;5;132;01m{\u001b[39;00mindices[\u001b[38;5;241m0\u001b[39m]\u001b[38;5;132;01m}\u001b[39;00m\u001b[38;5;124m.\u001b[39m\u001b[38;5;124m\"\u001b[39m) \u001b[38;5;66;03m# a list with list for each query.\u001b[39;00m\n\u001b[1;32m     11\u001b[0m \u001b[38;5;28mprint\u001b[39m(\u001b[38;5;124mf\u001b[39m\u001b[38;5;124m\"\u001b[39m\u001b[38;5;124mThe distances to these are \u001b[39m\u001b[38;5;132;01m{\u001b[39;00mdistances[\u001b[38;5;241m0\u001b[39m]\u001b[38;5;132;01m}\u001b[39;00m\u001b[38;5;124m.\u001b[39m\u001b[38;5;124m\"\u001b[39m, )\n",
      "\u001b[0;31mNameError\u001b[0m: name 'knn_model' is not defined"
     ]
    }
   ],
   "source": [
    "query_index = 1497 \n",
    "distances, indices = knn_model.kneighbors(\n",
    "    # Required shape for X: (n_queries, n_features)\n",
    "    # thus reshape column to row.\n",
    "    X = purchase_df.iloc[query_index,:].values.reshape(1, -1), \n",
    "    n_neighbors = 5,\n",
    "    return_distance = True # The default\n",
    ")\n",
    "\n",
    "print(f\"The nearest users are {indices[0]}.\") # a list with list for each query.\n",
    "print(f\"The distances to these are {distances[0]}.\", )"
   ]
  },
  {
   "cell_type": "markdown",
   "id": "3253e0d3-2c1f-40b3-bb94-78da48b540a3",
   "metadata": {
    "tags": []
   },
   "source": [
    "Note that the query itself is listed as a NN. "
   ]
  },
  {
   "cell_type": "code",
   "execution_count": 126,
   "id": "0b7a1a30-0ee6-4a21-8078-7f667328b57e",
   "metadata": {
    "tags": []
   },
   "outputs": [
    {
     "ename": "NameError",
     "evalue": "name 'purchase_df' is not defined",
     "output_type": "error",
     "traceback": [
      "\u001b[0;31m---------------------------------------------------------------------------\u001b[0m",
      "\u001b[0;31mNameError\u001b[0m                                 Traceback (most recent call last)",
      "Cell \u001b[0;32mIn[126], line 13\u001b[0m\n\u001b[1;32m     10\u001b[0m     NNs \u001b[38;5;241m=\u001b[39m [purchase_df\u001b[38;5;241m.\u001b[39mindex[NN_index] \u001b[38;5;28;01mfor\u001b[39;00m NN_index \u001b[38;5;129;01min\u001b[39;00m NN_indices]\n\u001b[1;32m     11\u001b[0m     \u001b[38;5;28;01mreturn\u001b[39;00m NNs\n\u001b[0;32m---> 13\u001b[0m fetch_similar_users_knn(\u001b[43mpurchase_df\u001b[49m,\u001b[38;5;241m1497\u001b[39m)\n",
      "\u001b[0;31mNameError\u001b[0m: name 'purchase_df' is not defined"
     ]
    }
   ],
   "source": [
    "def fetch_similar_users_knn(purchase_df,CustomerID):\n",
    "    # Get row numbers of nearest neighors including self. \n",
    "    indices = knn_model.kneighbors(\n",
    "        purchase_df.iloc[CustomerID,:].values.reshape(1, -1), \n",
    "        n_neighbors = 5,\n",
    "        return_distance=False\n",
    "    )\n",
    "    # Row number index to CustomerID\n",
    "    NN_indices = indices[0][1:]\n",
    "    NNs = [purchase_df.index[NN_index] for NN_index in NN_indices]\n",
    "    return NNs\n",
    "\n",
    "fetch_similar_users_knn(purchase_df,1497)"
   ]
  },
  {
   "cell_type": "code",
   "execution_count": 127,
   "id": "a379750c-15e7-4743-817c-ddf4ac430888",
   "metadata": {
    "tags": []
   },
   "outputs": [
    {
     "name": "stdout",
     "output_type": "stream",
     "text": [
      "Items bought by similar users based on KNN:\n"
     ]
    },
    {
     "ename": "NameError",
     "evalue": "name 'purchase_df' is not defined",
     "output_type": "error",
     "traceback": [
      "\u001b[0;31m---------------------------------------------------------------------------\u001b[0m",
      "\u001b[0;31mNameError\u001b[0m                                 Traceback (most recent call last)",
      "Cell \u001b[0;32mIn[127], line 29\u001b[0m\n\u001b[1;32m     24\u001b[0m     \u001b[38;5;28;01mreturn\u001b[39;00m ten_random_recommendations\n\u001b[1;32m     26\u001b[0m \u001b[38;5;28mprint\u001b[39m(\u001b[38;5;124m'\u001b[39m\u001b[38;5;124mItems bought by similar users based on KNN:\u001b[39m\u001b[38;5;124m'\u001b[39m)\n\u001b[1;32m     27\u001b[0m knn_recommendation(\n\u001b[1;32m     28\u001b[0m     simular_users_knn\u001b[38;5;241m=\u001b[39mfetch_similar_users_knn(\n\u001b[0;32m---> 29\u001b[0m         purchase_df\u001b[38;5;241m=\u001b[39m\u001b[43mpurchase_df\u001b[49m,\n\u001b[1;32m     30\u001b[0m         CustomerID\u001b[38;5;241m=\u001b[39m\u001b[38;5;241m1497\u001b[39m\n\u001b[1;32m     31\u001b[0m     ),\n\u001b[1;32m     32\u001b[0m     n_recommendations \u001b[38;5;241m=\u001b[39m\u001b[38;5;241m2\u001b[39m \n\u001b[1;32m     33\u001b[0m )\n",
      "\u001b[0;31mNameError\u001b[0m: name 'purchase_df' is not defined"
     ]
    }
   ],
   "source": [
    "def knn_recommendation(simular_users_knn,n_recommendations=10):\n",
    "    \n",
    "    #obtaining all the items bought by similar users\n",
    "    knn_recommnedations = []\n",
    "    for j in simular_users_knn:\n",
    "        item_list = data1[data1[\"CustomerID\"]==j]['StockCode'].to_list()\n",
    "        knn_recommnedations.append(item_list)\n",
    "    \n",
    "    #this gives us multi-dimensional list\n",
    "    # we need to flatten it\n",
    "    flat_list = []\n",
    "    for sublist in knn_recommnedations:\n",
    "        for item in sublist:\n",
    "            flat_list.append(item)\n",
    "    final_recommendations_list = list(dict.fromkeys(flat_list))\n",
    "    \n",
    "    # storing 10 random recommendations in a list\n",
    "    ten_random_recommendations = random.sample(\n",
    "        final_recommendations_list, \n",
    "        n_recommendations\n",
    "    )\n",
    "    \n",
    "    #returning 10 random recommendations\n",
    "    return ten_random_recommendations\n",
    "\n",
    "print('Items bought by similar users based on KNN:')\n",
    "knn_recommendation(\n",
    "    simular_users_knn=fetch_similar_users_knn(\n",
    "        purchase_df=purchase_df,\n",
    "        CustomerID=1497\n",
    "    ),\n",
    "    n_recommendations =2 \n",
    ")"
   ]
  },
  {
   "cell_type": "markdown",
   "id": "d35d1200-9681-4103-9f73-c2ac9e4bd2fe",
   "metadata": {},
   "source": [
    "## Model Based Approach\n",
    "### Collaborative filtering via Matrix Factorization "
   ]
  },
  {
   "cell_type": "markdown",
   "id": "dae34e76-317e-4a5c-9b9c-2b589ac4e6ad",
   "metadata": {},
   "source": [
    "The suprise library is for RS's including collaborative filtering. "
   ]
  },
  {
   "cell_type": "code",
   "execution_count": 144,
   "id": "6eb45093-885e-45fc-805f-28ee84187e34",
   "metadata": {
    "tags": []
   },
   "outputs": [
    {
     "data": {
      "text/html": [
       "<div>\n",
       "<style scoped>\n",
       "    .dataframe tbody tr th:only-of-type {\n",
       "        vertical-align: middle;\n",
       "    }\n",
       "\n",
       "    .dataframe tbody tr th {\n",
       "        vertical-align: top;\n",
       "    }\n",
       "\n",
       "    .dataframe thead th {\n",
       "        text-align: right;\n",
       "    }\n",
       "</style>\n",
       "<table border=\"1\" class=\"dataframe\">\n",
       "  <thead>\n",
       "    <tr style=\"text-align: right;\">\n",
       "      <th></th>\n",
       "      <th>StockCode</th>\n",
       "      <th>CustomerID</th>\n",
       "      <th>Quantity</th>\n",
       "    </tr>\n",
       "    <tr>\n",
       "      <th>index</th>\n",
       "      <th></th>\n",
       "      <th></th>\n",
       "      <th></th>\n",
       "    </tr>\n",
       "  </thead>\n",
       "  <tbody>\n",
       "    <tr>\n",
       "      <th>25530</th>\n",
       "      <td>10133</td>\n",
       "      <td>12347</td>\n",
       "      <td>124</td>\n",
       "    </tr>\n",
       "    <tr>\n",
       "      <th>43765</th>\n",
       "      <td>15036</td>\n",
       "      <td>12347</td>\n",
       "      <td>124</td>\n",
       "    </tr>\n",
       "    <tr>\n",
       "      <th>65647</th>\n",
       "      <td>15056BL</td>\n",
       "      <td>12347</td>\n",
       "      <td>124</td>\n",
       "    </tr>\n",
       "  </tbody>\n",
       "</table>\n",
       "</div>"
      ],
      "text/plain": [
       "      StockCode  CustomerID  Quantity\n",
       "index                                \n",
       "25530     10133       12347       124\n",
       "43765     15036       12347       124\n",
       "65647   15056BL       12347       124"
      ]
     },
     "execution_count": 144,
     "metadata": {},
     "output_type": "execute_result"
    }
   ],
   "source": [
    "data4 = pd.read_csv(\"Data/quantity_of_purchases.csv\", index_col=0)\n",
    "data4.head(3)"
   ]
  },
  {
   "cell_type": "markdown",
   "id": "ad61e024-c35b-4a46-8acc-b3714ff083f6",
   "metadata": {},
   "source": [
    "The class `Reader` parses a table with columns\n",
    "```python\n",
    "user ; item ; rating ; [timestamp]\n",
    "```\n",
    "and `[timestamp]` appears to be optional."
   ]
  },
  {
   "cell_type": "code",
   "execution_count": 185,
   "id": "a15d9b7a-6f4d-481a-bf12-ed74b9c1cb6f",
   "metadata": {
    "tags": []
   },
   "outputs": [],
   "source": [
    "from surprise import Reader\n",
    "\n",
    "reader = Reader(\n",
    "    rating_scale=(0,data4[\"Quantity\"].max()) # rating is number purchased.\n",
    ")"
   ]
  },
  {
   "cell_type": "markdown",
   "id": "8394c7f0-04ac-4ae0-8eca-eac63f1f9a92",
   "metadata": {},
   "source": [
    "The class `Dataset` seems to have instances that can be interpreted as sparse arrays appropriate for the model in this section. "
   ]
  },
  {
   "cell_type": "code",
   "execution_count": 186,
   "id": "1af2ce93-7e61-49ac-a6c5-8bbf6a6287ca",
   "metadata": {
    "tags": []
   },
   "outputs": [
    {
     "data": {
      "text/html": [
       "<div>\n",
       "<style scoped>\n",
       "    .dataframe tbody tr th:only-of-type {\n",
       "        vertical-align: middle;\n",
       "    }\n",
       "\n",
       "    .dataframe tbody tr th {\n",
       "        vertical-align: top;\n",
       "    }\n",
       "\n",
       "    .dataframe thead th {\n",
       "        text-align: right;\n",
       "    }\n",
       "</style>\n",
       "<table border=\"1\" class=\"dataframe\">\n",
       "  <thead>\n",
       "    <tr style=\"text-align: right;\">\n",
       "      <th></th>\n",
       "      <th>StockCode</th>\n",
       "      <th>CustomerID</th>\n",
       "      <th>Quantity</th>\n",
       "    </tr>\n",
       "    <tr>\n",
       "      <th>index</th>\n",
       "      <th></th>\n",
       "      <th></th>\n",
       "      <th></th>\n",
       "    </tr>\n",
       "  </thead>\n",
       "  <tbody>\n",
       "    <tr>\n",
       "      <th>25530</th>\n",
       "      <td>10133</td>\n",
       "      <td>12347</td>\n",
       "      <td>124</td>\n",
       "    </tr>\n",
       "    <tr>\n",
       "      <th>43765</th>\n",
       "      <td>15036</td>\n",
       "      <td>12347</td>\n",
       "      <td>124</td>\n",
       "    </tr>\n",
       "    <tr>\n",
       "      <th>65647</th>\n",
       "      <td>15056BL</td>\n",
       "      <td>12347</td>\n",
       "      <td>124</td>\n",
       "    </tr>\n",
       "  </tbody>\n",
       "</table>\n",
       "</div>"
      ],
      "text/plain": [
       "      StockCode  CustomerID  Quantity\n",
       "index                                \n",
       "25530     10133       12347       124\n",
       "43765     15036       12347       124\n",
       "65647   15056BL       12347       124"
      ]
     },
     "execution_count": 186,
     "metadata": {},
     "output_type": "execute_result"
    }
   ],
   "source": [
    "from surprise import Dataset\n",
    "# This makes the matrix with missing entries.\n",
    "formated_data = Dataset.load_from_df(\n",
    "    df = data4, \n",
    "    reader = reader #\n",
    ")\n",
    "\n",
    "# Display as a df.\n",
    "formated_data.df.head(3)"
   ]
  },
  {
   "cell_type": "markdown",
   "id": "b530c96a-d01d-43ad-a043-1050572f7175",
   "metadata": {},
   "source": [
    "Surprise has a test-train split that allows validation of the model."
   ]
  },
  {
   "cell_type": "code",
   "execution_count": 196,
   "id": "e74bc512-44af-473f-9f2b-c805f819f301",
   "metadata": {
    "tags": []
   },
   "outputs": [],
   "source": [
    "from surprise.model_selection import train_test_split, cross_validate, GridSearchCV\n",
    "train_set, test_set = train_test_split(formated_data, test_size= 0.2)"
   ]
  },
  {
   "cell_type": "code",
   "execution_count": 204,
   "id": "59fd54ba-3431-4de9-b3e2-d59142066b9d",
   "metadata": {
    "tags": []
   },
   "outputs": [
    {
     "data": {
      "text/plain": [
       "(surprise.dataset.DatasetAutoFolds, surprise.trainset.Trainset, list)"
      ]
     },
     "execution_count": 204,
     "metadata": {},
     "output_type": "execute_result"
    }
   ],
   "source": [
    "# What the hell?\n",
    "type(formated_data),type(train_set), type(test_set)"
   ]
  },
  {
   "cell_type": "code",
   "execution_count": 225,
   "id": "c343d4e6-b595-49e2-a3c5-4b5b6a239146",
   "metadata": {
    "tags": []
   },
   "outputs": [
    {
     "data": {
      "text/plain": [
       "('21527', 15453, 150.0)"
      ]
     },
     "execution_count": 225,
     "metadata": {},
     "output_type": "execute_result"
    }
   ],
   "source": [
    "test_set[0]"
   ]
  },
  {
   "cell_type": "code",
   "execution_count": 228,
   "id": "0b855a70-87fd-48e1-ad9d-19979701bbfa",
   "metadata": {
    "tags": []
   },
   "outputs": [
    {
     "data": {
      "text/plain": [
       "('10133', 12347, 124.0)"
      ]
     },
     "execution_count": 228,
     "metadata": {},
     "output_type": "execute_result"
    }
   ],
   "source": [
    "formated_data.raw_ratings[0][:3]"
   ]
  },
  {
   "cell_type": "code",
   "execution_count": 240,
   "id": "c75ba850-5504-4a88-af04-813f7ac37744",
   "metadata": {
    "tags": []
   },
   "outputs": [
    {
     "data": {
      "text/plain": [
       "True"
      ]
     },
     "execution_count": 240,
     "metadata": {},
     "output_type": "execute_result"
    }
   ],
   "source": [
    "# test elements are in set of all data\n",
    "test_set[0][0] in [f[0] for f in formated_data.raw_ratings]"
   ]
  },
  {
   "cell_type": "code",
   "execution_count": 244,
   "id": "d8b13b74-10a6-41e1-804c-478d6ace3530",
   "metadata": {
    "tags": []
   },
   "outputs": [
    {
     "data": {
      "text/plain": [
       "False"
      ]
     },
     "execution_count": 244,
     "metadata": {},
     "output_type": "execute_result"
    }
   ],
   "source": [
    "# Test elements are unknown to train set. \n",
    "train_set.knows_item(test_set[0]) "
   ]
  },
  {
   "cell_type": "markdown",
   "id": "01aa4d9a-4eb9-4b64-9c85-bb1990d7b7e9",
   "metadata": {
    "tags": []
   },
   "source": [
    "Training: \n",
    "\n",
    "Non-negative matrix facorization transform a matrix with all positive entries to a sum of outer products of non-negative matrices with weights. Advantages over PCA:\n",
    "- building blocks are non noegative\n",
    "- building blocks are spares\n",
    "- weights are positive \n",
    "- weights are spars \n",
    "\n",
    "The approximation is of a nxm matrix as the product of a nxk and kxm;\n",
    "$$\n",
    "r\\approx \\hat{r}_{ui} = q_i^Tp_u\n",
    " $$\n",
    " with gradient decent as \n",
    "$$\n",
    "\\begin{array}{cc}\n",
    "p_{uf} \n",
    "& \\leftarrow p_{uf} \\cdot \\frac{\\sum_{i \\in I_u} q_{if}\n",
    "    \\cdot r_{ui}}{\\sum_{i \\in I_u} q_{if} \\cdot \\hat{r_{ui}} +\n",
    "    \\lambda_u |I_u| p_{uf}}\\\\\n",
    "    q_{if} &\\leftarrow q_{if} \n",
    "    \\cdot \\frac{\\sum_{u \\in U_i} p_{uf}\n",
    "    \\cdot r_{ui}}{\\sum_{u \\in U_i} p_{uf} \\cdot \\hat{r_{ui}} +\n",
    "    \\lambda_i |U_i| q_{if}}\\\\\n",
    "\\end{array}\n",
    "$$"
   ]
  },
  {
   "cell_type": "code",
   "execution_count": 200,
   "id": "c062beb8-2945-4a59-bde5-bc9ae97a1c51",
   "metadata": {
    "tags": []
   },
   "outputs": [],
   "source": [
    "formated_data.raw_ratings"
   ]
  },
  {
   "cell_type": "code",
   "execution_count": 193,
   "id": "1176f83d-1533-413a-8839-c32b99d073c0",
   "metadata": {
    "tags": []
   },
   "outputs": [
    {
     "name": "stdout",
     "output_type": "stream",
     "text": [
      "The number of blank entries is 568\n"
     ]
    }
   ],
   "source": [
    "blanks = train_set.n_items* train_set.n_users- train_set.n_ratings\n",
    "print(f\"The number of blank entries is {train_set.n_items}\")"
   ]
  },
  {
   "cell_type": "code",
   "execution_count": 183,
   "id": "d33c9390-6962-47ac-8db0-eb783a4c75d9",
   "metadata": {
    "tags": []
   },
   "outputs": [
    {
     "data": {
      "text/plain": [
       "((15, 568), (679, 15))"
      ]
     },
     "execution_count": 183,
     "metadata": {},
     "output_type": "execute_result"
    }
   ],
   "source": [
    "from surprise.prediction_algorithms import NMF\n",
    "\n",
    "# model fitting\n",
    "algo1 = NMF(\n",
    "    n_factors=15 # 15 default latent factors: nxm = nxk kxm\n",
    ")\n",
    "algo1.fit(train_set)\n",
    "\n",
    "# Shapes are i disagreement with documentation;\n",
    "algo1.qi.T.shape, algo1.pu.shape"
   ]
  },
  {
   "cell_type": "code",
   "execution_count": 184,
   "id": "ed7cbd79-b2e6-42fd-9baf-b11ef4c13b40",
   "metadata": {
    "tags": []
   },
   "outputs": [
    {
     "data": {
      "text/plain": [
       "[Prediction(uid='21715', iid=16550, r_ui=251.0, est=5.522815053605057, details={'was_impossible': False}),\n",
       " Prediction(uid='15056BL', iid=13209, r_ui=238.0, est=5.330702545197154, details={'was_impossible': False}),\n",
       " Prediction(uid='21509', iid=15152, r_ui=147.0, est=3.295781492304288, details={'was_impossible': False})]"
      ]
     },
     "execution_count": 184,
     "metadata": {},
     "output_type": "execute_result"
    }
   ],
   "source": [
    "# Predictions are a score for each item-user pair. \n",
    "# In this case, the score is a prediction for number to buy. \n",
    "pred1 = algo1.test(test_set, verbose= False)\n",
    "\n",
    "pred1[:3]"
   ]
  },
  {
   "cell_type": "code",
   "execution_count": 212,
   "id": "2f02c30f-6f01-4e95-ae7e-007769faf8bf",
   "metadata": {
    "tags": []
   },
   "outputs": [
    {
     "name": "stdout",
     "output_type": "stream",
     "text": [
      "It is predictied that user 21715 will buy 5.522815053605057 of item 16550.\n"
     ]
    }
   ],
   "source": [
    "print(f\"It is predictied that user {pred1[0].uid} will buy {pred1[0].est} of item {pred1[0].iid}.\") "
   ]
  },
  {
   "cell_type": "code",
   "execution_count": 205,
   "id": "3b33ac3d-6a87-4837-9e1f-925b1029f9fa",
   "metadata": {
    "tags": []
   },
   "outputs": [
    {
     "name": "stdout",
     "output_type": "stream",
     "text": [
      "Evaluating RMSE, MAE of algorithm NMF on 5 split(s).\n",
      "\n",
      "                  Fold 1  Fold 2  Fold 3  Fold 4  Fold 5  Mean    Std     \n",
      "RMSE (testset)    429.2180425.0081428.7602428.0486430.2707428.26111.7793  \n",
      "MAE (testset)     272.8918272.2150272.5034272.7408273.2836272.72690.3604  \n",
      "Fit time          5.86    5.94    6.04    5.95    6.00    5.96    0.06    \n",
      "Test time         0.27    0.25    0.79    0.22    0.22    0.35    0.22    \n"
     ]
    },
    {
     "data": {
      "text/plain": [
       "{'test_rmse': array([429.2179615 , 425.00812017, 428.76016757, 428.0486074 ,\n",
       "        430.27071511]),\n",
       " 'test_mae': array([272.89180274, 272.21496154, 272.50341363, 272.74084923,\n",
       "        273.28356436]),\n",
       " 'fit_time': (5.86180305480957,\n",
       "  5.943439245223999,\n",
       "  6.036020994186401,\n",
       "  5.9522480964660645,\n",
       "  6.001868724822998),\n",
       " 'test_time': (0.26941609382629395,\n",
       "  0.24709606170654297,\n",
       "  0.7868602275848389,\n",
       "  0.22133708000183105,\n",
       "  0.21563410758972168)}"
      ]
     },
     "execution_count": 205,
     "metadata": {},
     "output_type": "execute_result"
    }
   ],
   "source": [
    "from surprise.model_selection import cross_validate\n",
    "\n",
    "cross_validate(\n",
    "    algo = algo1, \n",
    "    data=formated_data, \n",
    "    verbose=True\n",
    ")"
   ]
  },
  {
   "cell_type": "markdown",
   "id": "5b8c0bcd-f6b7-4748-85a9-2b297ecc9ecb",
   "metadata": {},
   "source": [
    "### Co-Clustering\n",
    "\n"
   ]
  },
  {
   "cell_type": "markdown",
   "id": "6c2d6763-9e8d-4bfd-8b95-498ca846ac07",
   "metadata": {},
   "source": [
    "Simultaneously cluster columns and rows of a matrix.... I hate this book. "
   ]
  },
  {
   "cell_type": "code",
   "execution_count": 251,
   "id": "fba86a96-c6da-4627-a268-23593869edd2",
   "metadata": {
    "tags": []
   },
   "outputs": [],
   "source": [
    "from surprise.prediction_algorithms import CoClustering"
   ]
  },
  {
   "cell_type": "code",
   "execution_count": 89,
   "id": "9988eace-1996-412d-89d8-29b70bece4a6",
   "metadata": {},
   "outputs": [],
   "source": [
    "# defining the model\n",
    "algo2 = CoClustering()\n",
    "\n",
    "# model fitting\n",
    "algo2.fit(train_set)\n",
    "\n",
    "# model prediction\n",
    "pred2 = algo2.test(test_set)\n",
    "\n",
    "\n",
    "cross_validate(algo2, formated_data, verbose=True)"
   ]
  },
  {
   "cell_type": "code",
   "execution_count": null,
   "id": "4badc848-872e-44c4-9c6a-040def160166",
   "metadata": {},
   "outputs": [],
   "source": []
  }
 ],
 "metadata": {
  "kernelspec": {
   "display_name": "Python [conda env:rs_book_env]",
   "language": "python",
   "name": "conda-env-rs_book_env-py"
  },
  "language_info": {
   "codemirror_mode": {
    "name": "ipython",
    "version": 3
   },
   "file_extension": ".py",
   "mimetype": "text/x-python",
   "name": "python",
   "nbconvert_exporter": "python",
   "pygments_lexer": "ipython3",
   "version": "3.12.0"
  }
 },
 "nbformat": 4,
 "nbformat_minor": 5
}
